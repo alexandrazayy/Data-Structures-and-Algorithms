{
 "cells": [
  {
   "cell_type": "markdown",
   "id": "arctic-stocks",
   "metadata": {},
   "source": [
    "### Задание №1\n",
    "Массив A состоит из целых положительных чисел длин отрезков. Составьте из трех отрезков такой треугольник, чтобы его периметр был максимально возможным. Если невозможно составить треугольник с положительной площадью функция возвращает 0."
   ]
  },
  {
   "cell_type": "code",
   "execution_count": 2,
   "id": "caring-truck",
   "metadata": {
    "scrolled": true
   },
   "outputs": [
    {
     "name": "stdout",
     "output_type": "stream",
     "text": [
      "Введите количество элементов массива: 5\n",
      "1\n",
      "10\n",
      "7\n",
      "8\n",
      "15\n",
      "Наибольший треугольник со сторонами:  15 10 8\n"
     ]
    }
   ],
   "source": [
    "def Triangle(a, b, c):\n",
    "    return a + b > c and a + c > b and b + c > a\n",
    "\n",
    "n = int(input(\"Введите количество элементов массива: \"))\n",
    "M = [int(input()) for i in range (n)]\n",
    "M.sort(reverse = True)\n",
    "\n",
    "for i in range(n):\n",
    "    if Triangle(M[i], M[i+1], M[i+2]):\n",
    "        print(\"Наибольший треугольник со сторонами: \", M[i], M[i+1], M[i+2])\n",
    "        break\n",
    "    else: \n",
    "        print(\"Не существует\")"
   ]
  },
  {
   "cell_type": "markdown",
   "id": "maritime-conversation",
   "metadata": {},
   "source": [
    "### Задание №2\n",
    "Дан массив неотрицательных целых чисел nums. Расположите их в таком порядке, чтобы вместе они образовали максимально возможное число. Замечание: Результат может быть очень большим числом, поэтому представьте его как string, а не integer."
   ]
  },
  {
   "cell_type": "code",
   "execution_count": 14,
   "id": "alert-charm",
   "metadata": {
    "scrolled": false
   },
   "outputs": [
    {
     "name": "stdout",
     "output_type": "stream",
     "text": [
      "5\n",
      "97\n",
      "99\n",
      "907\n",
      "3\n",
      "50\n",
      "9997907503\n"
     ]
    }
   ],
   "source": [
    "class Comparator(str):\n",
    "    def __eq__(self, other):\n",
    "        return int(other+self) > int(self+other)\n",
    "    \n",
    "def get_more_num(nums, i = 0):\n",
    "    nums = [str(i) for i in nums]\n",
    "    nums.sort(reverse=True,key=Comparator)\n",
    "    print(''.join(nums))\n",
    "d = int(input())\n",
    "M = [0] * d\n",
    "for i in range(d):\n",
    "    M[i] = int(input())\n",
    "get_more_num(M)"
   ]
  },
  {
   "cell_type": "markdown",
   "id": "catholic-roots",
   "metadata": {},
   "source": [
    "### Задание №3\n",
    "Дана матрица mat размером m * n, значения целочисленные. Напишите функцию, сортирующую каждую диагональ матрицы по возрастанию и возвращающую получившуюся матрицу."
   ]
  },
  {
   "cell_type": "code",
   "execution_count": 10,
   "id": "cleared-anniversary",
   "metadata": {
    "scrolled": false
   },
   "outputs": [
    {
     "name": "stdout",
     "output_type": "stream",
     "text": [
      "10\n",
      "10\n",
      "1 5 9 2 5 8 1 7 2 2\n",
      "5 9 4 4 2 1 7 6 5 2\n",
      "1 2 3 1 8 5 1 4 5 3\n",
      "8 4 7 3 4 1 7 6 5 9\n",
      "1 8 9 9 2 8 9 1 2 4\n",
      "8 6 4 5 9 3 8 7 3 5\n",
      "2 7 3 2 8 9 7 5 3 4\n",
      "6 4 4 2 5 9 5 5 9 2\n",
      "9 2 8 1 6 3 6 6 9 8\n",
      "9 4 1 9 1 7 9 1 8 1\n",
      "\n",
      "9 5 9 2 5 8 1 7 2 2\n",
      "5 9 4 4 2 1 7 6 2 2\n",
      "1 2 7 1 8 5 1 2 5 3\n",
      "8 4 7 5 4 1 4 6 5 9\n",
      "1 8 9 9 3 4 9 1 2 4\n",
      "8 6 4 5 5 3 8 7 3 5\n",
      "2 7 3 7 8 9 3 5 3 4\n",
      "6 4 8 2 5 9 5 2 9 2\n",
      "9 9 8 1 6 3 6 6 1 8\n",
      "9 4 1 9 1 7 9 1 8 1\n"
     ]
    }
   ],
   "source": [
    "from random import randint\n",
    "import random\n",
    "n , m = int(input()), int(input())\n",
    "mat = [[random.randint(1, 9) for c in range(n)] for r in range(m)]\n",
    "for i in mat:\n",
    "    print(*i)\n",
    "for k in range(n - 1): \n",
    "    for i in range(m - k - 1):\n",
    "        if mat[i][i] < mat[i+1][i+1]:\n",
    "            mat[i][i], mat[i+1][i+1] = mat[i+1][i+1], mat[i][i]\n",
    "        j = n - i - 1\n",
    "        if mat[i][j] > mat[i + 1][j - 1]:\n",
    "            mat[i][j], mat[i + 1][j - 1] = mat[i + 1][j - 1], mat[i][j]\n",
    "\n",
    "print()\n",
    "for i in mat:\n",
    "    print(*i)"
   ]
  },
  {
   "cell_type": "code",
   "execution_count": null,
   "id": "8e027e76",
   "metadata": {},
   "outputs": [],
   "source": []
  }
 ],
 "metadata": {
  "kernelspec": {
   "display_name": "Python 3 (ipykernel)",
   "language": "python",
   "name": "python3"
  },
  "language_info": {
   "codemirror_mode": {
    "name": "ipython",
    "version": 3
   },
   "file_extension": ".py",
   "mimetype": "text/x-python",
   "name": "python",
   "nbconvert_exporter": "python",
   "pygments_lexer": "ipython3",
   "version": "3.9.7"
  }
 },
 "nbformat": 4,
 "nbformat_minor": 5
}
