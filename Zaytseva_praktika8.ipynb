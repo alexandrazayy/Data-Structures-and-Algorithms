{
  "cells": [
    {
      "cell_type": "markdown",
      "metadata": {
        "id": "view-in-github",
        "colab_type": "text"
      },
      "source": [
        "<a href=\"https://colab.research.google.com/github/alexandrazayy/Data-Structures-and-Algorithms/blob/main/Zaytseva_praktika8.ipynb\" target=\"_parent\"><img src=\"https://colab.research.google.com/assets/colab-badge.svg\" alt=\"Open In Colab\"/></a>"
      ]
    },
    {
      "cell_type": "code",
      "execution_count": null,
      "id": "d34fb66a-f1dc-4d35-8471-bbece7d663bd",
      "metadata": {
        "id": "d34fb66a-f1dc-4d35-8471-bbece7d663bd"
      },
      "outputs": [],
      "source": [
        "import tensorflow as tf\n",
        "from datetime import datetime\n",
        "import tensorflow as tf\n",
        "import numpy as np\n",
        "import matplotlib.pyplot as plt\n",
        "from tensorflow.keras import layers, models\n",
        "from sklearn.model_selection import train_test_split\n",
        "import var4"
      ]
    },
    {
      "cell_type": "markdown",
      "id": "9d42da0d-687e-43b5-827d-4956f137987f",
      "metadata": {
        "id": "9d42da0d-687e-43b5-827d-4956f137987f"
      },
      "source": [
        "#### данные я взяла тоже такие же как в 6 практике, где фигурки линии и +, тоже которые были в моем варианте"
      ]
    },
    {
      "cell_type": "code",
      "execution_count": null,
      "id": "66ba0d15-ca8c-4c5a-a35e-5b2706595b12",
      "metadata": {
        "id": "66ba0d15-ca8c-4c5a-a35e-5b2706595b12"
      },
      "outputs": [],
      "source": [
        "data, labels = var4.gen_data()"
      ]
    },
    {
      "cell_type": "code",
      "execution_count": null,
      "id": "f3549f5a-9b4a-4a42-bfa8-757faa9e105c",
      "metadata": {
        "id": "f3549f5a-9b4a-4a42-bfa8-757faa9e105c"
      },
      "outputs": [],
      "source": [
        "# Преобразуем строки меток в числа\n",
        "label_mapping = {'Cross': 0, 'Line': 1}\n",
        "labels = np.array([label_mapping[label[0]] for label in labels])"
      ]
    },
    {
      "cell_type": "code",
      "execution_count": null,
      "id": "38a8d1f0-b02d-43f2-baf2-c6ed3d5ef4e0",
      "metadata": {
        "id": "38a8d1f0-b02d-43f2-baf2-c6ed3d5ef4e0"
      },
      "outputs": [],
      "source": [
        "# Преобразуем данные в формат, подходящий для сверточной нейронной сети\n",
        "data = data.reshape((data.shape[0], 50, 50, 1))"
      ]
    },
    {
      "cell_type": "code",
      "execution_count": null,
      "id": "6065c2f1-de9d-4971-a790-04384ba9b0f1",
      "metadata": {
        "id": "6065c2f1-de9d-4971-a790-04384ba9b0f1"
      },
      "outputs": [],
      "source": [
        "# Нормализуем данные\n",
        "data = data.astype('float32') / 255.0"
      ]
    },
    {
      "cell_type": "code",
      "execution_count": null,
      "id": "ad903d74-bd69-4749-9620-9996a657c632",
      "metadata": {
        "id": "ad903d74-bd69-4749-9620-9996a657c632"
      },
      "outputs": [],
      "source": [
        "# Перемешиваем данные\n",
        "indices = np.arange(data.shape[0])\n",
        "np.random.shuffle(indices)\n",
        "data = data[indices]\n",
        "labels = labels[indices]"
      ]
    },
    {
      "cell_type": "code",
      "execution_count": null,
      "id": "b1be2abb-cf9e-4314-a7d8-26360a8829e2",
      "metadata": {
        "id": "b1be2abb-cf9e-4314-a7d8-26360a8829e2"
      },
      "outputs": [],
      "source": [
        "# Разбиваем данные на обучающую и тестовую выборки\n",
        "train_data, test_data, train_labels, test_labels = train_test_split(data, labels, test_size=0.2, random_state=42)"
      ]
    },
    {
      "cell_type": "markdown",
      "id": "81d08c2a-6143-4f2c-a32e-8a338b771498",
      "metadata": {
        "id": "81d08c2a-6143-4f2c-a32e-8a338b771498"
      },
      "source": [
        "#### Я взяла исходный класс Callback для сохранения моделей из библиотеки тензор флоу, но внесла изменения, чтобы он работал в соответствии с заданием моего варианта"
      ]
    },
    {
      "cell_type": "code",
      "execution_count": null,
      "id": "ee97c081-7483-4c21-916f-46f67360f17d",
      "metadata": {
        "id": "ee97c081-7483-4c21-916f-46f67360f17d"
      },
      "outputs": [],
      "source": [
        "class SaveModelCallback(tf.keras.callbacks.Callback):\n",
        "    def __init__(self, prefix):\n",
        "        super().__init__()  # Вызываем конструктор базового класса Callback\n",
        "        self.prefix = prefix  # Устанавливаем префикс для имен файлов моделей\n",
        "\n",
        "    def on_epoch_end(self, epoch, logs=None):\n",
        "        # Сохраняем модель на заданных эпохах\n",
        "        if epoch % save_interval == 0:\n",
        "            model_name = f\"{datetime.now().strftime('%Y-%m-%d')}_{self.prefix}_{epoch + 1}.h5\"\n",
        "            self.model.save(model_name)  # Сохраняем текущую модель\n",
        "            print(f\"Model saved at epoch {epoch + 1} with name {model_name}\")\n"
      ]
    },
    {
      "cell_type": "markdown",
      "id": "ffa66b88-c8d9-4a41-8e41-509452a72887",
      "metadata": {
        "id": "ffa66b88-c8d9-4a41-8e41-509452a72887"
      },
      "source": [
        "#### Моя модель из 6 практики:"
      ]
    },
    {
      "cell_type": "code",
      "execution_count": null,
      "id": "29de0c96-a543-4ac7-892d-bbff2fff14d1",
      "metadata": {
        "id": "29de0c96-a543-4ac7-892d-bbff2fff14d1"
      },
      "outputs": [],
      "source": [
        "model = models.Sequential()\n",
        "model.add(layers.Conv2D(32, (3, 3), activation='relu', input_shape=(50, 50, 1)))\n",
        "model.add(layers.MaxPooling2D((2, 2)))\n",
        "model.add(layers.Conv2D(64, (3, 3), activation='relu'))\n",
        "model.add(layers.MaxPooling2D((2, 2)))\n",
        "model.add(layers.Conv2D(128, (3, 3), activation='relu'))\n",
        "model.add(layers.MaxPooling2D((2, 2)))\n",
        "model.add(layers.Flatten())\n",
        "model.add(layers.Dense(128, activation='relu'))\n",
        "model.add(layers.BatchNormalization())  # Добавлен Batch Normalization\n",
        "model.add(layers.Dropout(0.7))  # Увеличен Dropout rate\n",
        "model.add(layers.Dense(1, activation='sigmoid'))"
      ]
    },
    {
      "cell_type": "code",
      "execution_count": null,
      "id": "f8d67166-b9ee-4ad1-854c-29408e741d68",
      "metadata": {
        "id": "f8d67166-b9ee-4ad1-854c-29408e741d68"
      },
      "outputs": [],
      "source": [
        "# Задаем параметры для сохранения моделей\n",
        "save_interval = 10  # Сохранять модели каждые 10 эпох\n",
        "prefix = \"mymodel\"  # Префикс имени файла модели"
      ]
    },
    {
      "cell_type": "code",
      "execution_count": null,
      "id": "0119a098-807c-4ba4-83fd-1fe240a90fcc",
      "metadata": {
        "id": "0119a098-807c-4ba4-83fd-1fe240a90fcc"
      },
      "outputs": [],
      "source": [
        "# Компилируем модель с уменьшенным learning rate\n",
        "model.compile(optimizer=tf.keras.optimizers.Adam(learning_rate=0.0001), loss='binary_crossentropy', metrics=['accuracy'])"
      ]
    },
    {
      "cell_type": "code",
      "execution_count": null,
      "id": "76320039-cd03-4a3c-9234-06e35ffa12a8",
      "metadata": {
        "id": "76320039-cd03-4a3c-9234-06e35ffa12a8"
      },
      "outputs": [],
      "source": [
        "# Создаем Callback\n",
        "save_model_callback = SaveModelCallback(prefix)"
      ]
    },
    {
      "cell_type": "code",
      "execution_count": null,
      "id": "211de4fb-c4e5-4f50-980f-8272996a48f9",
      "metadata": {
        "id": "211de4fb-c4e5-4f50-980f-8272996a48f9",
        "outputId": "37fbdd39-c041-4e8c-a393-643c5f7c4001"
      },
      "outputs": [
        {
          "name": "stdout",
          "output_type": "stream",
          "text": [
            "Epoch 1/150\n",
            "10/10 [==============================] - ETA: 0s - loss: 0.6924 - accuracy: 0.5781Model saved at epoch 1 with name 2023-12-18_mymodel_1.h5\n",
            "10/10 [==============================] - 3s 108ms/step - loss: 0.6924 - accuracy: 0.5781 - val_loss: 0.6946 - val_accuracy: 0.3000\n",
            "Epoch 2/150\n",
            " 1/10 [==>...........................] - ETA: 0s - loss: 0.6909 - accuracy: 0.5938"
          ]
        },
        {
          "name": "stderr",
          "output_type": "stream",
          "text": [
            "C:\\Users\\sasha\\AppData\\Local\\Programs\\Python\\Python311\\Lib\\site-packages\\keras\\src\\engine\\training.py:3000: UserWarning: You are saving your model as an HDF5 file via `model.save()`. This file format is considered legacy. We recommend using instead the native Keras format, e.g. `model.save('my_model.keras')`.\n",
            "  saving_api.save_model(\n"
          ]
        },
        {
          "name": "stdout",
          "output_type": "stream",
          "text": [
            "10/10 [==============================] - 1s 70ms/step - loss: 0.6902 - accuracy: 0.6469 - val_loss: 0.6958 - val_accuracy: 0.3000\n",
            "Epoch 3/150\n",
            "10/10 [==============================] - 1s 66ms/step - loss: 0.6874 - accuracy: 0.6687 - val_loss: 0.6974 - val_accuracy: 0.3000\n",
            "Epoch 4/150\n",
            "10/10 [==============================] - 1s 62ms/step - loss: 0.6849 - accuracy: 0.6375 - val_loss: 0.6989 - val_accuracy: 0.3000\n",
            "Epoch 5/150\n",
            "10/10 [==============================] - 1s 61ms/step - loss: 0.6809 - accuracy: 0.6781 - val_loss: 0.7003 - val_accuracy: 0.3000\n",
            "Epoch 6/150\n",
            "10/10 [==============================] - 1s 64ms/step - loss: 0.6750 - accuracy: 0.6781 - val_loss: 0.7019 - val_accuracy: 0.3000\n",
            "Epoch 7/150\n",
            "10/10 [==============================] - 1s 74ms/step - loss: 0.6665 - accuracy: 0.6438 - val_loss: 0.7025 - val_accuracy: 0.3000\n",
            "Epoch 8/150\n",
            "10/10 [==============================] - 1s 67ms/step - loss: 0.6551 - accuracy: 0.6781 - val_loss: 0.7036 - val_accuracy: 0.3000\n",
            "Epoch 9/150\n",
            "10/10 [==============================] - 1s 60ms/step - loss: 0.6360 - accuracy: 0.6781 - val_loss: 0.7077 - val_accuracy: 0.3000\n",
            "Epoch 10/150\n",
            "10/10 [==============================] - 1s 59ms/step - loss: 0.6099 - accuracy: 0.6969 - val_loss: 0.7056 - val_accuracy: 0.3000\n",
            "Epoch 11/150\n",
            "10/10 [==============================] - ETA: 0s - loss: 0.5895 - accuracy: 0.6969Model saved at epoch 11 with name 2023-12-18_mymodel_11.h5\n",
            "10/10 [==============================] - 1s 67ms/step - loss: 0.5895 - accuracy: 0.6969 - val_loss: 0.7020 - val_accuracy: 0.3000\n",
            "Epoch 12/150\n",
            "10/10 [==============================] - 1s 63ms/step - loss: 0.5685 - accuracy: 0.6875 - val_loss: 0.7002 - val_accuracy: 0.3000\n",
            "Epoch 13/150\n",
            "10/10 [==============================] - 1s 64ms/step - loss: 0.5501 - accuracy: 0.7219 - val_loss: 0.6998 - val_accuracy: 0.3000\n",
            "Epoch 14/150\n",
            "10/10 [==============================] - 1s 71ms/step - loss: 0.5239 - accuracy: 0.7500 - val_loss: 0.7056 - val_accuracy: 0.3000\n",
            "Epoch 15/150\n",
            "10/10 [==============================] - 1s 65ms/step - loss: 0.4820 - accuracy: 0.8219 - val_loss: 0.6928 - val_accuracy: 0.3000\n",
            "Epoch 16/150\n",
            "10/10 [==============================] - 1s 66ms/step - loss: 0.4524 - accuracy: 0.8188 - val_loss: 0.6840 - val_accuracy: 0.4625\n",
            "Epoch 17/150\n",
            "10/10 [==============================] - 1s 77ms/step - loss: 0.4085 - accuracy: 0.8719 - val_loss: 0.6775 - val_accuracy: 0.4750\n",
            "Epoch 18/150\n",
            "10/10 [==============================] - 1s 60ms/step - loss: 0.3660 - accuracy: 0.8906 - val_loss: 0.6707 - val_accuracy: 0.5875\n",
            "Epoch 19/150\n",
            "10/10 [==============================] - 1s 55ms/step - loss: 0.3438 - accuracy: 0.9094 - val_loss: 0.6636 - val_accuracy: 0.6000\n",
            "Epoch 20/150\n",
            "10/10 [==============================] - 1s 59ms/step - loss: 0.2802 - accuracy: 0.9406 - val_loss: 0.6548 - val_accuracy: 0.6375\n",
            "Epoch 21/150\n",
            " 9/10 [==========================>...] - ETA: 0s - loss: 0.2586 - accuracy: 0.9479Model saved at epoch 21 with name 2023-12-18_mymodel_21.h5\n",
            "10/10 [==============================] - 1s 67ms/step - loss: 0.2523 - accuracy: 0.9500 - val_loss: 0.6445 - val_accuracy: 0.7250\n",
            "Epoch 22/150\n",
            "10/10 [==============================] - 1s 57ms/step - loss: 0.2187 - accuracy: 0.9688 - val_loss: 0.6402 - val_accuracy: 0.5500\n",
            "Epoch 23/150\n",
            "10/10 [==============================] - 1s 64ms/step - loss: 0.1887 - accuracy: 0.9531 - val_loss: 0.6248 - val_accuracy: 0.7500\n",
            "Epoch 24/150\n",
            "10/10 [==============================] - 1s 91ms/step - loss: 0.1747 - accuracy: 0.9563 - val_loss: 0.6094 - val_accuracy: 0.9250\n",
            "Epoch 25/150\n",
            "10/10 [==============================] - 1s 75ms/step - loss: 0.1736 - accuracy: 0.9719 - val_loss: 0.5978 - val_accuracy: 0.9250\n",
            "Epoch 26/150\n",
            "10/10 [==============================] - 1s 63ms/step - loss: 0.1386 - accuracy: 0.9781 - val_loss: 0.5925 - val_accuracy: 0.7875\n",
            "Epoch 27/150\n",
            "10/10 [==============================] - 1s 72ms/step - loss: 0.1357 - accuracy: 0.9688 - val_loss: 0.5711 - val_accuracy: 0.9250\n",
            "Epoch 28/150\n",
            "10/10 [==============================] - 1s 65ms/step - loss: 0.1093 - accuracy: 0.9812 - val_loss: 0.5676 - val_accuracy: 0.8125\n",
            "Epoch 29/150\n",
            "10/10 [==============================] - 1s 66ms/step - loss: 0.1049 - accuracy: 0.9781 - val_loss: 0.5479 - val_accuracy: 0.9000\n",
            "Epoch 30/150\n",
            "10/10 [==============================] - 1s 69ms/step - loss: 0.1030 - accuracy: 0.9812 - val_loss: 0.5312 - val_accuracy: 0.9250\n",
            "Epoch 31/150\n",
            " 9/10 [==========================>...] - ETA: 0s - loss: 0.0837 - accuracy: 0.9931Model saved at epoch 31 with name 2023-12-18_mymodel_31.h5\n",
            "10/10 [==============================] - 1s 72ms/step - loss: 0.0825 - accuracy: 0.9906 - val_loss: 0.5153 - val_accuracy: 0.9375\n",
            "Epoch 32/150\n",
            "10/10 [==============================] - 1s 75ms/step - loss: 0.0930 - accuracy: 0.9812 - val_loss: 0.5087 - val_accuracy: 0.9250\n",
            "Epoch 33/150\n",
            "10/10 [==============================] - 1s 70ms/step - loss: 0.0808 - accuracy: 0.9875 - val_loss: 0.5216 - val_accuracy: 0.7750\n",
            "Epoch 34/150\n",
            "10/10 [==============================] - 1s 65ms/step - loss: 0.0896 - accuracy: 0.9781 - val_loss: 0.4642 - val_accuracy: 0.9500\n",
            "Epoch 35/150\n",
            "10/10 [==============================] - 1s 62ms/step - loss: 0.0621 - accuracy: 0.9937 - val_loss: 0.4208 - val_accuracy: 0.9875\n",
            "Epoch 36/150\n",
            "10/10 [==============================] - 1s 59ms/step - loss: 0.0775 - accuracy: 0.9812 - val_loss: 0.4196 - val_accuracy: 0.9750\n",
            "Epoch 37/150\n",
            "10/10 [==============================] - 1s 71ms/step - loss: 0.0541 - accuracy: 0.9937 - val_loss: 0.4015 - val_accuracy: 0.9750\n",
            "Epoch 38/150\n",
            "10/10 [==============================] - 1s 68ms/step - loss: 0.0488 - accuracy: 0.9969 - val_loss: 0.3877 - val_accuracy: 0.9625\n",
            "Epoch 39/150\n",
            "10/10 [==============================] - 1s 65ms/step - loss: 0.0565 - accuracy: 0.9906 - val_loss: 0.3372 - val_accuracy: 1.0000\n",
            "Epoch 40/150\n",
            "10/10 [==============================] - 1s 69ms/step - loss: 0.0381 - accuracy: 0.9969 - val_loss: 0.3133 - val_accuracy: 1.0000\n",
            "Epoch 41/150\n",
            "10/10 [==============================] - ETA: 0s - loss: 0.0420 - accuracy: 0.9969Model saved at epoch 41 with name 2023-12-18_mymodel_41.h5\n",
            "10/10 [==============================] - 1s 70ms/step - loss: 0.0420 - accuracy: 0.9969 - val_loss: 0.2899 - val_accuracy: 1.0000\n",
            "Epoch 42/150\n",
            "10/10 [==============================] - 1s 65ms/step - loss: 0.0479 - accuracy: 0.9844 - val_loss: 0.2767 - val_accuracy: 1.0000\n",
            "Epoch 43/150\n",
            "10/10 [==============================] - 1s 72ms/step - loss: 0.0420 - accuracy: 0.9906 - val_loss: 0.2719 - val_accuracy: 0.9875\n",
            "Epoch 44/150\n",
            "10/10 [==============================] - 1s 67ms/step - loss: 0.0317 - accuracy: 1.0000 - val_loss: 0.2332 - val_accuracy: 1.0000\n",
            "Epoch 45/150\n",
            "10/10 [==============================] - 1s 59ms/step - loss: 0.0277 - accuracy: 1.0000 - val_loss: 0.2279 - val_accuracy: 0.9875\n",
            "Epoch 46/150\n",
            "10/10 [==============================] - 1s 61ms/step - loss: 0.0265 - accuracy: 1.0000 - val_loss: 0.2138 - val_accuracy: 0.9875\n",
            "Epoch 47/150\n",
            "10/10 [==============================] - 1s 57ms/step - loss: 0.0325 - accuracy: 0.9969 - val_loss: 0.1668 - val_accuracy: 1.0000\n",
            "Epoch 48/150\n",
            "10/10 [==============================] - 1s 62ms/step - loss: 0.0356 - accuracy: 0.9969 - val_loss: 0.1887 - val_accuracy: 0.9875\n",
            "Epoch 49/150\n",
            "10/10 [==============================] - 1s 66ms/step - loss: 0.0247 - accuracy: 1.0000 - val_loss: 0.1313 - val_accuracy: 1.0000\n",
            "Epoch 50/150\n",
            "10/10 [==============================] - 1s 58ms/step - loss: 0.0395 - accuracy: 0.9937 - val_loss: 0.1152 - val_accuracy: 1.0000\n",
            "Epoch 51/150\n",
            "10/10 [==============================] - ETA: 0s - loss: 0.0314 - accuracy: 0.9969Model saved at epoch 51 with name 2023-12-18_mymodel_51.h5\n",
            "10/10 [==============================] - 1s 68ms/step - loss: 0.0314 - accuracy: 0.9969 - val_loss: 0.1074 - val_accuracy: 1.0000\n",
            "Epoch 52/150\n",
            "10/10 [==============================] - 1s 66ms/step - loss: 0.0251 - accuracy: 1.0000 - val_loss: 0.1072 - val_accuracy: 1.0000\n",
            "Epoch 53/150\n",
            "10/10 [==============================] - 1s 71ms/step - loss: 0.0178 - accuracy: 1.0000 - val_loss: 0.0812 - val_accuracy: 1.0000\n",
            "Epoch 54/150\n",
            "10/10 [==============================] - 1s 69ms/step - loss: 0.0277 - accuracy: 1.0000 - val_loss: 0.0820 - val_accuracy: 1.0000\n",
            "Epoch 55/150\n",
            "10/10 [==============================] - 1s 70ms/step - loss: 0.0221 - accuracy: 1.0000 - val_loss: 0.0749 - val_accuracy: 1.0000\n",
            "Epoch 56/150\n",
            "10/10 [==============================] - 1s 76ms/step - loss: 0.0163 - accuracy: 1.0000 - val_loss: 0.0614 - val_accuracy: 1.0000\n",
            "Epoch 57/150\n",
            "10/10 [==============================] - 1s 71ms/step - loss: 0.0230 - accuracy: 1.0000 - val_loss: 0.0768 - val_accuracy: 0.9875\n",
            "Epoch 58/150\n",
            "10/10 [==============================] - 1s 71ms/step - loss: 0.0200 - accuracy: 1.0000 - val_loss: 0.0648 - val_accuracy: 1.0000\n",
            "Epoch 59/150\n",
            "10/10 [==============================] - 1s 69ms/step - loss: 0.0208 - accuracy: 1.0000 - val_loss: 0.0348 - val_accuracy: 1.0000\n",
            "Epoch 60/150\n",
            "10/10 [==============================] - 1s 70ms/step - loss: 0.0124 - accuracy: 1.0000 - val_loss: 0.0322 - val_accuracy: 1.0000\n",
            "Epoch 61/150\n",
            "10/10 [==============================] - ETA: 0s - loss: 0.0307 - accuracy: 0.9937Model saved at epoch 61 with name 2023-12-18_mymodel_61.h5\n",
            "10/10 [==============================] - 1s 72ms/step - loss: 0.0307 - accuracy: 0.9937 - val_loss: 0.0283 - val_accuracy: 1.0000\n",
            "Epoch 62/150\n",
            "10/10 [==============================] - 1s 67ms/step - loss: 0.0185 - accuracy: 1.0000 - val_loss: 0.0235 - val_accuracy: 1.0000\n",
            "Epoch 63/150\n",
            "10/10 [==============================] - 1s 70ms/step - loss: 0.0135 - accuracy: 1.0000 - val_loss: 0.0373 - val_accuracy: 1.0000\n",
            "Epoch 64/150\n",
            "10/10 [==============================] - 1s 66ms/step - loss: 0.0145 - accuracy: 1.0000 - val_loss: 0.0212 - val_accuracy: 1.0000\n",
            "Epoch 65/150\n",
            "10/10 [==============================] - 1s 71ms/step - loss: 0.0135 - accuracy: 1.0000 - val_loss: 0.0180 - val_accuracy: 1.0000\n",
            "Epoch 66/150\n",
            "10/10 [==============================] - 1s 68ms/step - loss: 0.0146 - accuracy: 1.0000 - val_loss: 0.0124 - val_accuracy: 1.0000\n",
            "Epoch 67/150\n",
            "10/10 [==============================] - 1s 69ms/step - loss: 0.0142 - accuracy: 1.0000 - val_loss: 0.0107 - val_accuracy: 1.0000\n",
            "Epoch 68/150\n",
            "10/10 [==============================] - 1s 70ms/step - loss: 0.0081 - accuracy: 1.0000 - val_loss: 0.0091 - val_accuracy: 1.0000\n",
            "Epoch 69/150\n",
            "10/10 [==============================] - 1s 73ms/step - loss: 0.0115 - accuracy: 1.0000 - val_loss: 0.0080 - val_accuracy: 1.0000\n",
            "Epoch 70/150\n",
            "10/10 [==============================] - 1s 75ms/step - loss: 0.0151 - accuracy: 1.0000 - val_loss: 0.0092 - val_accuracy: 1.0000\n",
            "Epoch 71/150\n",
            "10/10 [==============================] - ETA: 0s - loss: 0.0120 - accuracy: 1.0000Model saved at epoch 71 with name 2023-12-18_mymodel_71.h5\n",
            "10/10 [==============================] - 1s 69ms/step - loss: 0.0120 - accuracy: 1.0000 - val_loss: 0.0091 - val_accuracy: 1.0000\n",
            "Epoch 72/150\n",
            "10/10 [==============================] - 1s 75ms/step - loss: 0.0115 - accuracy: 1.0000 - val_loss: 0.0126 - val_accuracy: 1.0000\n",
            "Epoch 73/150\n",
            "10/10 [==============================] - 1s 72ms/step - loss: 0.0110 - accuracy: 1.0000 - val_loss: 0.0067 - val_accuracy: 1.0000\n",
            "Epoch 74/150\n",
            "10/10 [==============================] - 1s 69ms/step - loss: 0.0091 - accuracy: 1.0000 - val_loss: 0.0057 - val_accuracy: 1.0000\n",
            "Epoch 75/150\n",
            "10/10 [==============================] - 1s 67ms/step - loss: 0.0074 - accuracy: 1.0000 - val_loss: 0.0046 - val_accuracy: 1.0000\n",
            "Epoch 76/150\n",
            "10/10 [==============================] - 1s 66ms/step - loss: 0.0124 - accuracy: 1.0000 - val_loss: 0.0041 - val_accuracy: 1.0000\n",
            "Epoch 77/150\n",
            "10/10 [==============================] - 1s 61ms/step - loss: 0.0133 - accuracy: 1.0000 - val_loss: 0.0041 - val_accuracy: 1.0000\n",
            "Epoch 78/150\n",
            "10/10 [==============================] - 1s 63ms/step - loss: 0.0089 - accuracy: 1.0000 - val_loss: 0.0040 - val_accuracy: 1.0000\n",
            "Epoch 79/150\n",
            "10/10 [==============================] - 1s 63ms/step - loss: 0.0073 - accuracy: 1.0000 - val_loss: 0.0029 - val_accuracy: 1.0000\n",
            "Epoch 80/150\n",
            "10/10 [==============================] - 1s 60ms/step - loss: 0.0083 - accuracy: 1.0000 - val_loss: 0.0025 - val_accuracy: 1.0000\n",
            "Epoch 81/150\n",
            "10/10 [==============================] - ETA: 0s - loss: 0.0118 - accuracy: 1.0000Model saved at epoch 81 with name 2023-12-18_mymodel_81.h5\n",
            "10/10 [==============================] - 1s 68ms/step - loss: 0.0118 - accuracy: 1.0000 - val_loss: 0.0028 - val_accuracy: 1.0000\n",
            "Epoch 82/150\n",
            "10/10 [==============================] - 1s 62ms/step - loss: 0.0101 - accuracy: 1.0000 - val_loss: 0.0106 - val_accuracy: 1.0000\n",
            "Epoch 83/150\n",
            "10/10 [==============================] - 1s 62ms/step - loss: 0.0072 - accuracy: 1.0000 - val_loss: 0.0025 - val_accuracy: 1.0000\n",
            "Epoch 84/150\n",
            "10/10 [==============================] - 1s 64ms/step - loss: 0.0045 - accuracy: 1.0000 - val_loss: 0.0017 - val_accuracy: 1.0000\n",
            "Epoch 85/150\n",
            "10/10 [==============================] - 1s 71ms/step - loss: 0.0058 - accuracy: 1.0000 - val_loss: 0.0016 - val_accuracy: 1.0000\n",
            "Epoch 86/150\n",
            "10/10 [==============================] - 1s 67ms/step - loss: 0.0069 - accuracy: 1.0000 - val_loss: 0.0014 - val_accuracy: 1.0000\n",
            "Epoch 87/150\n",
            "10/10 [==============================] - 1s 66ms/step - loss: 0.0088 - accuracy: 1.0000 - val_loss: 0.0017 - val_accuracy: 1.0000\n",
            "Epoch 88/150\n",
            "10/10 [==============================] - 1s 61ms/step - loss: 0.0102 - accuracy: 1.0000 - val_loss: 0.0014 - val_accuracy: 1.0000\n",
            "Epoch 89/150\n",
            "10/10 [==============================] - 1s 83ms/step - loss: 0.0049 - accuracy: 1.0000 - val_loss: 0.0047 - val_accuracy: 1.0000\n",
            "Epoch 90/150\n",
            "10/10 [==============================] - 1s 91ms/step - loss: 0.0056 - accuracy: 1.0000 - val_loss: 0.0012 - val_accuracy: 1.0000\n",
            "Epoch 91/150\n",
            "10/10 [==============================] - ETA: 0s - loss: 0.0081 - accuracy: 1.0000Model saved at epoch 91 with name 2023-12-18_mymodel_91.h5\n",
            "10/10 [==============================] - 1s 89ms/step - loss: 0.0081 - accuracy: 1.0000 - val_loss: 0.0020 - val_accuracy: 1.0000\n",
            "Epoch 92/150\n",
            "10/10 [==============================] - 1s 63ms/step - loss: 0.0062 - accuracy: 1.0000 - val_loss: 0.0017 - val_accuracy: 1.0000\n",
            "Epoch 93/150\n",
            "10/10 [==============================] - 1s 66ms/step - loss: 0.0051 - accuracy: 1.0000 - val_loss: 0.0018 - val_accuracy: 1.0000\n",
            "Epoch 94/150\n",
            "10/10 [==============================] - 1s 62ms/step - loss: 0.0036 - accuracy: 1.0000 - val_loss: 9.3584e-04 - val_accuracy: 1.0000\n",
            "Epoch 95/150\n",
            "10/10 [==============================] - 1s 63ms/step - loss: 0.0134 - accuracy: 0.9969 - val_loss: 0.0011 - val_accuracy: 1.0000\n",
            "Epoch 96/150\n",
            "10/10 [==============================] - 1s 66ms/step - loss: 0.0066 - accuracy: 1.0000 - val_loss: 9.5265e-04 - val_accuracy: 1.0000\n",
            "Epoch 97/150\n",
            "10/10 [==============================] - 1s 64ms/step - loss: 0.0050 - accuracy: 1.0000 - val_loss: 9.3770e-04 - val_accuracy: 1.0000\n",
            "Epoch 98/150\n",
            "10/10 [==============================] - 1s 63ms/step - loss: 0.0056 - accuracy: 1.0000 - val_loss: 7.8636e-04 - val_accuracy: 1.0000\n",
            "Epoch 99/150\n",
            "10/10 [==============================] - 1s 59ms/step - loss: 0.0115 - accuracy: 1.0000 - val_loss: 7.6324e-04 - val_accuracy: 1.0000\n",
            "Epoch 100/150\n",
            "10/10 [==============================] - 1s 59ms/step - loss: 0.0039 - accuracy: 1.0000 - val_loss: 9.2776e-04 - val_accuracy: 1.0000\n",
            "Epoch 101/150\n",
            "10/10 [==============================] - ETA: 0s - loss: 0.0045 - accuracy: 1.0000Model saved at epoch 101 with name 2023-12-18_mymodel_101.h5\n",
            "10/10 [==============================] - 1s 70ms/step - loss: 0.0045 - accuracy: 1.0000 - val_loss: 6.9710e-04 - val_accuracy: 1.0000\n",
            "Epoch 102/150\n",
            "10/10 [==============================] - 1s 62ms/step - loss: 0.0035 - accuracy: 1.0000 - val_loss: 7.4419e-04 - val_accuracy: 1.0000\n",
            "Epoch 103/150\n",
            "10/10 [==============================] - 1s 64ms/step - loss: 0.0048 - accuracy: 1.0000 - val_loss: 7.7014e-04 - val_accuracy: 1.0000\n",
            "Epoch 104/150\n",
            "10/10 [==============================] - 1s 63ms/step - loss: 0.0113 - accuracy: 1.0000 - val_loss: 6.4814e-04 - val_accuracy: 1.0000\n",
            "Epoch 105/150\n",
            "10/10 [==============================] - 1s 62ms/step - loss: 0.0052 - accuracy: 1.0000 - val_loss: 9.0862e-04 - val_accuracy: 1.0000\n",
            "Epoch 106/150\n",
            "10/10 [==============================] - 1s 60ms/step - loss: 0.0030 - accuracy: 1.0000 - val_loss: 6.3072e-04 - val_accuracy: 1.0000\n",
            "Epoch 107/150\n",
            "10/10 [==============================] - 1s 59ms/step - loss: 0.0068 - accuracy: 1.0000 - val_loss: 7.9667e-04 - val_accuracy: 1.0000\n",
            "Epoch 108/150\n",
            "10/10 [==============================] - 1s 57ms/step - loss: 0.0025 - accuracy: 1.0000 - val_loss: 6.9334e-04 - val_accuracy: 1.0000\n",
            "Epoch 109/150\n",
            "10/10 [==============================] - 1s 56ms/step - loss: 0.0031 - accuracy: 1.0000 - val_loss: 5.4561e-04 - val_accuracy: 1.0000\n",
            "Epoch 110/150\n",
            "10/10 [==============================] - 1s 56ms/step - loss: 0.0042 - accuracy: 1.0000 - val_loss: 9.9130e-04 - val_accuracy: 1.0000\n",
            "Epoch 111/150\n",
            "10/10 [==============================] - ETA: 0s - loss: 0.0053 - accuracy: 1.0000Model saved at epoch 111 with name 2023-12-18_mymodel_111.h5\n",
            "10/10 [==============================] - 1s 63ms/step - loss: 0.0053 - accuracy: 1.0000 - val_loss: 6.4735e-04 - val_accuracy: 1.0000\n",
            "Epoch 112/150\n",
            "10/10 [==============================] - 1s 56ms/step - loss: 0.0029 - accuracy: 1.0000 - val_loss: 5.6664e-04 - val_accuracy: 1.0000\n",
            "Epoch 113/150\n",
            "10/10 [==============================] - 1s 57ms/step - loss: 0.0083 - accuracy: 1.0000 - val_loss: 4.6452e-04 - val_accuracy: 1.0000\n",
            "Epoch 114/150\n",
            "10/10 [==============================] - 1s 59ms/step - loss: 0.0046 - accuracy: 1.0000 - val_loss: 0.0016 - val_accuracy: 1.0000\n",
            "Epoch 115/150\n",
            "10/10 [==============================] - 1s 58ms/step - loss: 0.0028 - accuracy: 1.0000 - val_loss: 4.3269e-04 - val_accuracy: 1.0000\n",
            "Epoch 116/150\n",
            "10/10 [==============================] - 1s 57ms/step - loss: 0.0045 - accuracy: 1.0000 - val_loss: 6.2314e-04 - val_accuracy: 1.0000\n",
            "Epoch 117/150\n",
            "10/10 [==============================] - 1s 64ms/step - loss: 0.0028 - accuracy: 1.0000 - val_loss: 6.9355e-04 - val_accuracy: 1.0000\n",
            "Epoch 118/150\n",
            "10/10 [==============================] - 1s 57ms/step - loss: 0.0052 - accuracy: 1.0000 - val_loss: 0.0010 - val_accuracy: 1.0000\n",
            "Epoch 119/150\n",
            "10/10 [==============================] - 1s 56ms/step - loss: 0.0026 - accuracy: 1.0000 - val_loss: 3.7057e-04 - val_accuracy: 1.0000\n",
            "Epoch 120/150\n",
            "10/10 [==============================] - 1s 58ms/step - loss: 0.0025 - accuracy: 1.0000 - val_loss: 4.0890e-04 - val_accuracy: 1.0000\n",
            "Epoch 121/150\n",
            "10/10 [==============================] - ETA: 0s - loss: 0.0019 - accuracy: 1.0000Model saved at epoch 121 with name 2023-12-18_mymodel_121.h5\n",
            "10/10 [==============================] - 1s 60ms/step - loss: 0.0019 - accuracy: 1.0000 - val_loss: 4.5696e-04 - val_accuracy: 1.0000\n",
            "Epoch 122/150\n",
            "10/10 [==============================] - 1s 56ms/step - loss: 0.0022 - accuracy: 1.0000 - val_loss: 3.6293e-04 - val_accuracy: 1.0000\n",
            "Epoch 123/150\n",
            "10/10 [==============================] - 1s 58ms/step - loss: 0.0021 - accuracy: 1.0000 - val_loss: 4.6512e-04 - val_accuracy: 1.0000\n",
            "Epoch 124/150\n",
            "10/10 [==============================] - 1s 60ms/step - loss: 0.0034 - accuracy: 1.0000 - val_loss: 6.0139e-04 - val_accuracy: 1.0000\n",
            "Epoch 125/150\n",
            "10/10 [==============================] - 1s 54ms/step - loss: 0.0033 - accuracy: 1.0000 - val_loss: 4.0350e-04 - val_accuracy: 1.0000\n",
            "Epoch 126/150\n",
            "10/10 [==============================] - 1s 55ms/step - loss: 0.0045 - accuracy: 1.0000 - val_loss: 8.4389e-04 - val_accuracy: 1.0000\n",
            "Epoch 127/150\n",
            "10/10 [==============================] - 1s 56ms/step - loss: 0.0052 - accuracy: 1.0000 - val_loss: 4.7841e-04 - val_accuracy: 1.0000\n",
            "Epoch 128/150\n",
            "10/10 [==============================] - 1s 57ms/step - loss: 0.0020 - accuracy: 1.0000 - val_loss: 3.5024e-04 - val_accuracy: 1.0000\n",
            "Epoch 129/150\n",
            "10/10 [==============================] - 1s 59ms/step - loss: 0.0022 - accuracy: 1.0000 - val_loss: 4.5291e-04 - val_accuracy: 1.0000\n",
            "Epoch 130/150\n",
            "10/10 [==============================] - 1s 56ms/step - loss: 0.0022 - accuracy: 1.0000 - val_loss: 4.2067e-04 - val_accuracy: 1.0000\n",
            "Epoch 131/150\n",
            "10/10 [==============================] - ETA: 0s - loss: 0.0023 - accuracy: 1.0000Model saved at epoch 131 with name 2023-12-18_mymodel_131.h5\n",
            "10/10 [==============================] - 1s 60ms/step - loss: 0.0023 - accuracy: 1.0000 - val_loss: 2.7974e-04 - val_accuracy: 1.0000\n",
            "Epoch 132/150\n",
            "10/10 [==============================] - 1s 59ms/step - loss: 0.0025 - accuracy: 1.0000 - val_loss: 6.7784e-04 - val_accuracy: 1.0000\n",
            "Epoch 133/150\n",
            "10/10 [==============================] - 1s 60ms/step - loss: 0.0031 - accuracy: 1.0000 - val_loss: 2.8994e-04 - val_accuracy: 1.0000\n",
            "Epoch 134/150\n",
            "10/10 [==============================] - 1s 57ms/step - loss: 0.0031 - accuracy: 1.0000 - val_loss: 2.6077e-04 - val_accuracy: 1.0000\n",
            "Epoch 135/150\n",
            "10/10 [==============================] - 1s 59ms/step - loss: 0.0020 - accuracy: 1.0000 - val_loss: 5.1257e-04 - val_accuracy: 1.0000\n",
            "Epoch 136/150\n",
            "10/10 [==============================] - 1s 61ms/step - loss: 0.0023 - accuracy: 1.0000 - val_loss: 2.4703e-04 - val_accuracy: 1.0000\n",
            "Epoch 137/150\n",
            "10/10 [==============================] - 1s 61ms/step - loss: 0.0025 - accuracy: 1.0000 - val_loss: 3.2920e-04 - val_accuracy: 1.0000\n",
            "Epoch 138/150\n",
            "10/10 [==============================] - 1s 57ms/step - loss: 0.0017 - accuracy: 1.0000 - val_loss: 3.1234e-04 - val_accuracy: 1.0000\n",
            "Epoch 139/150\n",
            "10/10 [==============================] - 1s 56ms/step - loss: 0.0044 - accuracy: 1.0000 - val_loss: 3.2779e-04 - val_accuracy: 1.0000\n",
            "Epoch 140/150\n",
            "10/10 [==============================] - 1s 57ms/step - loss: 0.0020 - accuracy: 1.0000 - val_loss: 2.3065e-04 - val_accuracy: 1.0000\n",
            "Epoch 141/150\n",
            "10/10 [==============================] - ETA: 0s - loss: 0.0027 - accuracy: 1.0000Model saved at epoch 141 with name 2023-12-18_mymodel_141.h5\n",
            "10/10 [==============================] - 1s 59ms/step - loss: 0.0027 - accuracy: 1.0000 - val_loss: 3.8792e-04 - val_accuracy: 1.0000\n",
            "Epoch 142/150\n",
            "10/10 [==============================] - 1s 56ms/step - loss: 0.0027 - accuracy: 1.0000 - val_loss: 2.2942e-04 - val_accuracy: 1.0000\n",
            "Epoch 143/150\n",
            "10/10 [==============================] - 1s 59ms/step - loss: 0.0021 - accuracy: 1.0000 - val_loss: 2.7304e-04 - val_accuracy: 1.0000\n",
            "Epoch 144/150\n",
            "10/10 [==============================] - 1s 58ms/step - loss: 0.0019 - accuracy: 1.0000 - val_loss: 2.8371e-04 - val_accuracy: 1.0000\n",
            "Epoch 145/150\n",
            "10/10 [==============================] - 1s 58ms/step - loss: 0.0017 - accuracy: 1.0000 - val_loss: 2.0146e-04 - val_accuracy: 1.0000\n",
            "Epoch 146/150\n",
            "10/10 [==============================] - 1s 57ms/step - loss: 0.0021 - accuracy: 1.0000 - val_loss: 3.2245e-04 - val_accuracy: 1.0000\n",
            "Epoch 147/150\n",
            "10/10 [==============================] - 1s 56ms/step - loss: 0.0016 - accuracy: 1.0000 - val_loss: 2.3274e-04 - val_accuracy: 1.0000\n",
            "Epoch 148/150\n",
            "10/10 [==============================] - 1s 56ms/step - loss: 0.0018 - accuracy: 1.0000 - val_loss: 2.0785e-04 - val_accuracy: 1.0000\n",
            "Epoch 149/150\n",
            "10/10 [==============================] - 1s 57ms/step - loss: 9.4635e-04 - accuracy: 1.0000 - val_loss: 2.3023e-04 - val_accuracy: 1.0000\n",
            "Epoch 150/150\n",
            "10/10 [==============================] - 1s 56ms/step - loss: 0.0020 - accuracy: 1.0000 - val_loss: 1.8816e-04 - val_accuracy: 1.0000\n"
          ]
        },
        {
          "data": {
            "text/plain": [
              "<keras.src.callbacks.History at 0x13a09110950>"
            ]
          },
          "execution_count": 26,
          "metadata": {},
          "output_type": "execute_result"
        }
      ],
      "source": [
        "model.fit(train_data, train_labels, epochs=150, validation_split=0.2, callbacks=[save_model_callback])"
      ]
    },
    {
      "cell_type": "code",
      "execution_count": null,
      "id": "512fbfab-f1ac-4472-981a-cb822f228393",
      "metadata": {
        "id": "512fbfab-f1ac-4472-981a-cb822f228393",
        "outputId": "ab563af1-112f-4a45-dc72-be6808f4b455"
      },
      "outputs": [
        {
          "name": "stdout",
          "output_type": "stream",
          "text": [
            "4/4 [==============================] - 0s 12ms/step - loss: 0.0019 - accuracy: 1.0000\n",
            "Точность модели на тест.данных: 1.0\n"
          ]
        }
      ],
      "source": [
        "# Оцениваем модель на тестовых данных\n",
        "test_loss, test_acc = model.evaluate(test_data, test_labels)\n",
        "print(f'Точность модели на тест.данных: {test_acc}')"
      ]
    },
    {
      "cell_type": "markdown",
      "id": "dbfb5702-0212-476c-8663-4b953adae013",
      "metadata": {
        "id": "dbfb5702-0212-476c-8663-4b953adae013"
      },
      "source": [
        "![image.png](data:image/png;base64,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)"
      ]
    },
    {
      "cell_type": "markdown",
      "id": "0173af84-9da8-450b-a352-cc6b6699ca92",
      "metadata": {
        "id": "0173af84-9da8-450b-a352-cc6b6699ca92"
      },
      "source": [
        "#### Кол бэк работает правильно, все модели сохранилось в правильном формате : <текущая дата>_<префикс, задаваемый пользователем>_<номер эпохи>"
      ]
    }
  ],
  "metadata": {
    "kernelspec": {
      "display_name": "Python 3 (ipykernel)",
      "language": "python",
      "name": "python3"
    },
    "language_info": {
      "codemirror_mode": {
        "name": "ipython",
        "version": 3
      },
      "file_extension": ".py",
      "mimetype": "text/x-python",
      "name": "python",
      "nbconvert_exporter": "python",
      "pygments_lexer": "ipython3",
      "version": "3.11.5"
    },
    "colab": {
      "provenance": [],
      "include_colab_link": true
    }
  },
  "nbformat": 4,
  "nbformat_minor": 5
}