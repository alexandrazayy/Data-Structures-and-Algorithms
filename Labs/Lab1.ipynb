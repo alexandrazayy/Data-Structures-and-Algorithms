{
 "cells": [
  {
   "cell_type": "markdown",
   "id": "fifteen-sailing",
   "metadata": {},
   "source": [
    "# Лабораторная работа №1\n",
    "## Выполнила студентка группы БВТ2004 Зайцева Александра"
   ]
  },
  {
   "cell_type": "markdown",
   "id": "particular-syndicate",
   "metadata": {},
   "source": [
    "### Оглавление\n",
    "1. [Задание 1](#Задание-№1)\n",
    "2. [Задание 2](#Задание-№2)\n",
    "3. [Задание 3](#Задание-№3)\n",
    "4. [Вывод](#Вывод)"
   ]
  },
  {
   "cell_type": "markdown",
   "id": "arctic-stocks",
   "metadata": {},
   "source": [
    "### Задание №1\n",
    "<i> Вызвать функцию print() и передать туда строку Hello, World! </i>"
   ]
  },
  {
   "cell_type": "code",
   "execution_count": 1,
   "id": "caring-truck",
   "metadata": {
    "scrolled": true
   },
   "outputs": [
    {
     "name": "stdout",
     "output_type": "stream",
     "text": [
      "Hello, World!\n"
     ]
    }
   ],
   "source": [
    "print('Hello, World!')"
   ]
  },
  {
   "cell_type": "markdown",
   "id": "maritime-conversation",
   "metadata": {},
   "source": [
    "### Задание №2\n",
    "Написать генератор случайных матриц(многомерных), который принимает\n",
    "опциональные параметры <b>m</b>, <b>n</b>, <b>min_limit</b>, <b>max_limit</b>, где <b>m</b> и <b>n</b> указывают размер\n",
    "матрицы, а <b>min_lim</b> и <b>max_lim</b> - минимальное и максимальное значение для\n",
    "генерируемого числа."
   ]
  },
  {
   "cell_type": "code",
   "execution_count": 2,
   "id": "built-contact",
   "metadata": {},
   "outputs": [],
   "source": [
    "import random\n",
    "import time"
   ]
  },
  {
   "cell_type": "code",
   "execution_count": 3,
   "id": "alert-charm",
   "metadata": {},
   "outputs": [
    {
     "name": "stdout",
     "output_type": "stream",
     "text": [
      "Введите число: 8\n",
      "Введите число: 5\n",
      "Введите число: 0\n",
      "Введите число: 20\n",
      "\n",
      "  8   9  13  18  15 \n",
      " 10   3   1  13  11 \n",
      "  1   7   8   4  18 \n",
      "  4  15  10  17  10 \n",
      " 16   8  15   5   2 \n",
      "  7  12   0   8   5 \n",
      "  3   1  17  18   9 \n",
      "  7  13   2  14  11 "
     ]
    }
   ],
   "source": [
    "def GenMatr(m,n,min,max):\n",
    "    matr = [[0]*n for i in range(m)]\n",
    "    random.seed(time.time())\n",
    "    for i in range(m):\n",
    "        for j in range(n):\n",
    "            matr[i][j] = random.randint(min,max)\n",
    "    return matr\n",
    "\n",
    "def PrintMatr(matr:list[list[int]]):\n",
    "    for i in range(len(matr)):\n",
    "        print('\\n',end='')\n",
    "        for j in range(len(matr[i])):\n",
    "            print('{:3}'.format(matr[i][j]), end=' ')\n",
    "\n",
    "user_m = int(input('Введите число: '))\n",
    "user_n = int(input('Введите число: '))\n",
    "user_min_limit = int(input('Введите число: '))\n",
    "user_max_limit = int(input('Введите число: '))\n",
    "matr = GenMatr(user_m, user_n, user_min_limit, user_max_limit)\n",
    "PrintMatr(matr)"
   ]
  },
  {
   "cell_type": "markdown",
   "id": "catholic-roots",
   "metadata": {},
   "source": [
    "### Задание №3\n",
    "Реализовать методы сортировки строк числовой матрицы в соответствии с\n",
    "заданием. Оценить время работы каждого алгоритма сортировки и сравнить его со\n",
    "временем стандартной функции сортировки. Испытания проводить на сгенерированных\n",
    "матрицах."
   ]
  },
  {
   "cell_type": "code",
   "execution_count": 3,
   "id": "opposed-creature",
   "metadata": {},
   "outputs": [],
   "source": [
    "import copy"
   ]
  },
  {
   "cell_type": "code",
   "execution_count": 4,
   "id": "cleared-anniversary",
   "metadata": {},
   "outputs": [
    {
     "name": "stdout",
     "output_type": "stream",
     "text": [
      "--- 0 ms ---\n"
     ]
    }
   ],
   "source": [
    "# Сортировка выбором.\n",
    "# Берётся срез массива, в котором минимальный элемент переносят в самый левый угол,\n",
    "# после чего срез уменьшается и цикл повторяется.\n",
    "start_time = time.time()\n",
    "#TODO\n",
    "print(\"--- {0} ms ---\".format(round((time.time() - start_time)*1000)))"
   ]
  },
  {
   "cell_type": "code",
   "execution_count": 5,
   "id": "roman-silly",
   "metadata": {
    "scrolled": true
   },
   "outputs": [
    {
     "name": "stdout",
     "output_type": "stream",
     "text": [
      "--- 0 ms ---\n"
     ]
    }
   ],
   "source": [
    "# Сортировка вставкой.\n",
    "start_time = time.time()\n",
    "#TODO\n",
    "print(\"--- {0} ms ---\".format(round((time.time() - start_time)*1000)))"
   ]
  },
  {
   "cell_type": "code",
   "execution_count": 6,
   "id": "vital-implementation",
   "metadata": {},
   "outputs": [
    {
     "name": "stdout",
     "output_type": "stream",
     "text": [
      "--- 0 ms ---\n"
     ]
    }
   ],
   "source": [
    "# Сортировка обменом. || Сортировка пузырьком.\n",
    "start_time = time.time()\n",
    "#TODO\n",
    "print(\"--- {0} ms ---\".format(round((time.time() - start_time)*1000)))"
   ]
  },
  {
   "cell_type": "code",
   "execution_count": 7,
   "id": "veterinary-glory",
   "metadata": {},
   "outputs": [
    {
     "name": "stdout",
     "output_type": "stream",
     "text": [
      "--- 0 ms ---\n"
     ]
    }
   ],
   "source": [
    "# Сортировка Шелла.\n",
    "start_time = time.time()\n",
    "#TODO\n",
    "print(\"--- {0} ms ---\".format(round((time.time() - start_time)*1000)))"
   ]
  },
  {
   "cell_type": "code",
   "execution_count": 8,
   "id": "correct-chaos",
   "metadata": {},
   "outputs": [
    {
     "name": "stdout",
     "output_type": "stream",
     "text": [
      "--- 1 ms ---\n"
     ]
    }
   ],
   "source": [
    "# Быстрая сортировка.\n",
    "start_time = time.time()\n",
    "#TODO\n",
    "print(\"--- {0} ms ---\".format(round((time.time() - start_time)*1000)))\n",
    "    "
   ]
  },
  {
   "cell_type": "code",
   "execution_count": 9,
   "id": "french-czech",
   "metadata": {},
   "outputs": [
    {
     "name": "stdout",
     "output_type": "stream",
     "text": [
      "--- 0 ms ---\n"
     ]
    }
   ],
   "source": [
    "# Турнирная сортировка.\n",
    "start_time = time.time()\n",
    "#TODO\n",
    "print(\"--- {0} ms ---\".format(round((time.time() - start_time)*1000)))"
   ]
  },
  {
   "cell_type": "markdown",
   "id": "rental-jerusalem",
   "metadata": {},
   "source": [
    "### Вывод\n"
   ]
  },
  {
   "cell_type": "code",
   "execution_count": null,
   "id": "19e7f6a9",
   "metadata": {},
   "outputs": [],
   "source": []
  }
 ],
 "metadata": {
  "kernelspec": {
   "display_name": "Python 3 (ipykernel)",
   "language": "python",
   "name": "python3"
  },
  "language_info": {
   "codemirror_mode": {
    "name": "ipython",
    "version": 3
   },
   "file_extension": ".py",
   "mimetype": "text/x-python",
   "name": "python",
   "nbconvert_exporter": "python",
   "pygments_lexer": "ipython3",
   "version": "3.9.7"
  }
 },
 "nbformat": 4,
 "nbformat_minor": 5
}
