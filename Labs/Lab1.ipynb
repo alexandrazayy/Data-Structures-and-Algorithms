{
 "cells": [
  {
   "cell_type": "markdown",
   "id": "fifteen-sailing",
   "metadata": {},
   "source": [
    "# Лабораторная работа №1\n",
    "## Выполнила студентка группы БВТ2004 Зайцева Александра"
   ]
  },
  {
   "cell_type": "markdown",
   "id": "particular-syndicate",
   "metadata": {},
   "source": [
    "### Оглавление\n",
    "1. [Задание 1](#Задание-№1)\n",
    "2. [Задание 2](#Задание-№2)\n",
    "3. [Задание 3](#Задание-№3)\n",
    "4. [Вывод](#Вывод)"
   ]
  },
  {
   "cell_type": "markdown",
   "id": "arctic-stocks",
   "metadata": {},
   "source": [
    "### Задание №1\n",
    "<i> Вызвать функцию print() и передать туда строку Hello, World! </i>"
   ]
  },
  {
   "cell_type": "code",
   "execution_count": 1,
   "id": "caring-truck",
   "metadata": {
    "scrolled": true
   },
   "outputs": [
    {
     "name": "stdout",
     "output_type": "stream",
     "text": [
      "Hello, World!\n"
     ]
    }
   ],
   "source": [
    "print('Hello, World!')"
   ]
  },
  {
   "cell_type": "markdown",
   "id": "maritime-conversation",
   "metadata": {},
   "source": [
    "### Задание №2\n",
    "Написать генератор случайных матриц(многомерных), который принимает\n",
    "опциональные параметры <b>m</b>, <b>n</b>, <b>min_limit</b>, <b>max_limit</b>, где <b>m</b> и <b>n</b> указывают размер\n",
    "матрицы, а <b>min_lim</b> и <b>max_lim</b> - минимальное и максимальное значение для\n",
    "генерируемого числа."
   ]
  },
  {
   "cell_type": "code",
   "execution_count": 7,
   "id": "built-contact",
   "metadata": {},
   "outputs": [],
   "source": [
    "import random\n",
    "import time"
   ]
  },
  {
   "cell_type": "code",
   "execution_count": 8,
   "id": "alert-charm",
   "metadata": {},
   "outputs": [
    {
     "name": "stdout",
     "output_type": "stream",
     "text": [
      "Введите число: 10\n",
      "Введите число: 10\n",
      "Введите число: 0\n",
      "Введите число: 20\n",
      "\n",
      "  5  17   2   2   3  10  14   4  14  16 \n",
      "  4  16  12   6   6  13   7   1   0   3 \n",
      "  7   1   7   1   0   0  12  11  14  10 \n",
      "  3  18   1   3  20  18  14   7  10  20 \n",
      "  6   1   4  18   7   6   9  20  12   0 \n",
      " 11  19  18   7   3  17  14   0  13   5 \n",
      "  6  17  19   4   0   5  19  20   0  16 \n",
      " 11   9   2  11  12   8   7   4  14   9 \n",
      " 13   9  18   2  13   4  11   1   3  16 \n",
      "  0   7  18  11   3   3  11  16  13  16 "
     ]
    }
   ],
   "source": [
    "def GenMatr(m,n,min,max):\n",
    "    matr = [[0]*n for i in range(m)]\n",
    "    random.seed(time.time())\n",
    "    for i in range(m):\n",
    "        for j in range(n):\n",
    "            matr[i][j] = random.randint(min,max)\n",
    "    return matr\n",
    "\n",
    "def PrintMatr(matr:list[list[int]]):\n",
    "    for i in range(len(matr)):\n",
    "        print('\\n',end='')\n",
    "        for j in range(len(matr[i])):\n",
    "            print('{:3}'.format(matr[i][j]), end=' ')\n",
    "\n",
    "user_m = int(input('Введите число: '))\n",
    "user_n = int(input('Введите число: '))\n",
    "user_min_limit = int(input('Введите число: '))\n",
    "user_max_limit = int(input('Введите число: '))\n",
    "matr = GenMatr(user_m, user_n, user_min_limit, user_max_limit)\n",
    "PrintMatr(matr)"
   ]
  },
  {
   "cell_type": "markdown",
   "id": "catholic-roots",
   "metadata": {},
   "source": [
    "### Задание №3\n",
    "Реализовать методы сортировки строк числовой матрицы в соответствии с\n",
    "заданием. Оценить время работы каждого алгоритма сортировки и сравнить его со\n",
    "временем стандартной функции сортировки. Испытания проводить на сгенерированных\n",
    "матрицах."
   ]
  },
  {
   "cell_type": "code",
   "execution_count": 16,
   "id": "opposed-creature",
   "metadata": {},
   "outputs": [],
   "source": [
    "import copy"
   ]
  },
  {
   "cell_type": "code",
   "execution_count": 17,
   "id": "cleared-anniversary",
   "metadata": {},
   "outputs": [
    {
     "name": "stdout",
     "output_type": "stream",
     "text": [
      "\n",
      "  5  17   2   2   3  10  14   4  14  16 \n",
      "  4  16  12   6   6  13   7   1   0   3 \n",
      "  7   1   7   1   0   0  12  11  14  10 \n",
      "  3  18   1   3  20  18  14   7  10  20 \n",
      "  6   1   4  18   7   6   9  20  12   0 \n",
      " 11  19  18   7   3  17  14   0  13   5 \n",
      "  6  17  19   4   0   5  19  20   0  16 \n",
      " 11   9   2  11  12   8   7   4  14   9 \n",
      " 13   9  18   2  13   4  11   1   3  16 \n",
      "  0   7  18  11   3   3  11  16  13  16 \n",
      "--- 0.250900 ms ---\n",
      "\n",
      "  0   0   1   1   7   7  10  11  12  14 \n",
      "  0   0   4   5   6  16  17  19  19  20 \n",
      "  0   1   3   4   6   6   7  12  13  16 \n",
      "  0   1   4   6   6   7   9  12  18  20 \n",
      "  0   3   3   7  11  11  13  16  16  18 \n",
      "  0   3   5   7  11  13  14  17  18  19 \n",
      "  1   2   3   4   9  11  13  13  16  18 \n",
      "  1   3   3   7  10  14  18  18  20  20 \n",
      "  2   2   3   4   5  10  14  14  16  17 \n",
      "  2   4   7   8   9   9  11  11  12  14 "
     ]
    }
   ],
   "source": [
    "# Сортировка выбором.\n",
    "# Берётся срез массива, в котором минимальный элемент переносят в самый левый угол,\n",
    "# после чего срез уменьшается и цикл повторяется.\n",
    "def sel_sort(sort:list):\n",
    "    for i in range(len(sort) - 1):\n",
    "        min = sort[i]\n",
    "        index = i\n",
    "        for j in range(i, len(sort)):\n",
    "            if min > sort[j]:\n",
    "                min = sort[j]\n",
    "                index = j\n",
    "        sort[index],sort[i] = sort[i], sort[index]\n",
    "\n",
    "\n",
    "mat = copy.deepcopy(matr)\n",
    "PrintMatr(mat)\n",
    "start_time = time.perf_counter()\n",
    "for rows in mat:\n",
    "    sel_sort(rows)\n",
    "sel_sort(mat)\n",
    "print(\"\\n--- {:6f} ms ---\".format((time.perf_counter() - start_time)*1000))\n",
    "PrintMatr(mat)"
   ]
  },
  {
   "cell_type": "code",
   "execution_count": 19,
   "id": "roman-silly",
   "metadata": {
    "scrolled": false
   },
   "outputs": [
    {
     "name": "stdout",
     "output_type": "stream",
     "text": [
      "\n",
      "  5  17   2   2   3  10  14   4  14  16 \n",
      "  4  16  12   6   6  13   7   1   0   3 \n",
      "  7   1   7   1   0   0  12  11  14  10 \n",
      "  3  18   1   3  20  18  14   7  10  20 \n",
      "  6   1   4  18   7   6   9  20  12   0 \n",
      " 11  19  18   7   3  17  14   0  13   5 \n",
      "  6  17  19   4   0   5  19  20   0  16 \n",
      " 11   9   2  11  12   8   7   4  14   9 \n",
      " 13   9  18   2  13   4  11   1   3  16 \n",
      "  0   7  18  11   3   3  11  16  13  16 \n",
      "--- 0.239600 ms ---\n",
      "\n",
      "  0   0   1   1   7   7  10  11  12  14 \n",
      "  0   0   4   5   6  16  17  19  19  20 \n",
      "  0   1   3   4   6   6   7  12  13  16 \n",
      "  0   1   4   6   6   7   9  12  18  20 \n",
      "  0   3   3   7  11  11  13  16  16  18 \n",
      "  0   3   5   7  11  13  14  17  18  19 \n",
      "  1   2   3   4   9  11  13  13  16  18 \n",
      "  1   3   3   7  10  14  18  18  20  20 \n",
      "  2   2   3   4   5  10  14  14  16  17 \n",
      "  2   4   7   8   9   9  11  11  12  14 "
     ]
    }
   ],
   "source": [
    "# Сортировка вставкой.\n",
    "def ins_sort(sort:list):\n",
    "    for i in range(1,len(sort)):\n",
    "        tmp = sort[i]\n",
    "        j = i - 1\n",
    "        while(j >= 0 and tmp <= sort[j]):\n",
    "            sort[j+1] = sort[j]\n",
    "            j = j - 1\n",
    "        sort[j+1] = tmp\n",
    "\n",
    "\n",
    "mat = copy.deepcopy(matr)\n",
    "PrintMatr(mat)\n",
    "start_time = time.perf_counter()\n",
    "for rows in mat:\n",
    "    ins_sort(rows)\n",
    "ins_sort(mat)\n",
    "print(\"\\n--- {:6f} ms ---\".format((time.perf_counter() - start_time)*1000))\n",
    "PrintMatr(mat)"
   ]
  },
  {
   "cell_type": "code",
   "execution_count": 20,
   "id": "vital-implementation",
   "metadata": {},
   "outputs": [
    {
     "name": "stdout",
     "output_type": "stream",
     "text": [
      "\n",
      "  5  17   2   2   3  10  14   4  14  16 \n",
      "  4  16  12   6   6  13   7   1   0   3 \n",
      "  7   1   7   1   0   0  12  11  14  10 \n",
      "  3  18   1   3  20  18  14   7  10  20 \n",
      "  6   1   4  18   7   6   9  20  12   0 \n",
      " 11  19  18   7   3  17  14   0  13   5 \n",
      "  6  17  19   4   0   5  19  20   0  16 \n",
      " 11   9   2  11  12   8   7   4  14   9 \n",
      " 13   9  18   2  13   4  11   1   3  16 \n",
      "  0   7  18  11   3   3  11  16  13  16 \n",
      "--- 0.231700 ms ---\n",
      "\n",
      "  0   0   1   1   7   7  10  11  12  14 \n",
      "  0   0   4   5   6  16  17  19  19  20 \n",
      "  0   1   3   4   6   6   7  12  13  16 \n",
      "  0   1   4   6   6   7   9  12  18  20 \n",
      "  0   3   3   7  11  11  13  16  16  18 \n",
      "  0   3   5   7  11  13  14  17  18  19 \n",
      "  1   2   3   4   9  11  13  13  16  18 \n",
      "  1   3   3   7  10  14  18  18  20  20 \n",
      "  2   2   3   4   5  10  14  14  16  17 \n",
      "  2   4   7   8   9   9  11  11  12  14 --- 1645781803462 ms ---\n"
     ]
    }
   ],
   "source": [
    "# Сортировка обменом. || Сортировка пузырьком.\n",
    "start_time = time.time()\n",
    "#TODO# Сортировка обменом. || Сортировка пузырьком.\n",
    "def bub_sort(sort:list):\n",
    "    for i in range(len(sort)-1):\n",
    "        for j in range(len(sort)-1-i):\n",
    "            if sort[j] > sort[j+1]:\n",
    "                sort[j], sort[j+1] = sort[j+1],sort[j]\n",
    "\n",
    "mat = copy.deepcopy(matr)\n",
    "PrintMatr(mat)\n",
    "start_time = time.perf_counter()\n",
    "for rows in mat:\n",
    "    bub_sort(rows)\n",
    "bub_sort(mat)\n",
    "print(\"\\n--- {:6f} ms ---\".format((time.perf_counter() - start_time)*1000))\n",
    "PrintMatr(mat)\n",
    "print(\"--- {0} ms ---\".format(round((time.time() - start_time)*1000)))"
   ]
  },
  {
   "cell_type": "code",
   "execution_count": 21,
   "id": "veterinary-glory",
   "metadata": {},
   "outputs": [
    {
     "name": "stdout",
     "output_type": "stream",
     "text": [
      "\n",
      "  5  17   2   2   3  10  14   4  14  16 \n",
      "  4  16  12   6   6  13   7   1   0   3 \n",
      "  7   1   7   1   0   0  12  11  14  10 \n",
      "  3  18   1   3  20  18  14   7  10  20 \n",
      "  6   1   4  18   7   6   9  20  12   0 \n",
      " 11  19  18   7   3  17  14   0  13   5 \n",
      "  6  17  19   4   0   5  19  20   0  16 \n",
      " 11   9   2  11  12   8   7   4  14   9 \n",
      " 13   9  18   2  13   4  11   1   3  16 \n",
      "  0   7  18  11   3   3  11  16  13  16 \n",
      "--- 0.345800 ms ---\n",
      "\n",
      "  0   0   1   1   7   7  10  11  12  14 \n",
      "  0   0   4   5   6  16  17  19  19  20 \n",
      "  0   1   3   4   6   6   7  12  13  16 \n",
      "  0   1   4   6   6   7   9  12  18  20 \n",
      "  0   3   3   7  11  11  13  16  16  18 \n",
      "  0   3   5   7  11  13  14  17  18  19 \n",
      "  1   2   3   4   9  11  13  13  16  18 \n",
      "  1   3   3   7  10  14  18  18  20  20 \n",
      "  2   2   3   4   5  10  14  14  16  17 \n",
      "  2   4   7   8   9   9  11  11  12  14 "
     ]
    }
   ],
   "source": [
    "# Сортировка Шелла.\n",
    "def shell_sort(sort:list):\n",
    "    d = len(sort) >> 1\n",
    "    while d:\n",
    "        for i in range(d, len(sort)):\n",
    "            tmp = sort[i]\n",
    "            j = i - d\n",
    "            while (j >= 0 and tmp <= sort[j]):\n",
    "                sort[j + d] = sort[j]\n",
    "                j = j - d\n",
    "            sort[j + d] = tmp\n",
    "        d = d >> 1\n",
    "\n",
    "mat = copy.deepcopy(matr)\n",
    "PrintMatr(mat)\n",
    "start_time = time.perf_counter()\n",
    "for rows in mat:\n",
    "    shell_sort(rows)\n",
    "shell_sort(mat)\n",
    "print(\"\\n--- {:6f} ms ---\".format((time.perf_counter() - start_time)*1000))\n",
    "PrintMatr(mat)"
   ]
  },
  {
   "cell_type": "code",
   "execution_count": 22,
   "id": "correct-chaos",
   "metadata": {},
   "outputs": [
    {
     "name": "stdout",
     "output_type": "stream",
     "text": [
      "\n",
      "  5  17   2   2   3  10  14   4  14  16 \n",
      "  4  16  12   6   6  13   7   1   0   3 \n",
      "  7   1   7   1   0   0  12  11  14  10 \n",
      "  3  18   1   3  20  18  14   7  10  20 \n",
      "  6   1   4  18   7   6   9  20  12   0 \n",
      " 11  19  18   7   3  17  14   0  13   5 \n",
      "  6  17  19   4   0   5  19  20   0  16 \n",
      " 11   9   2  11  12   8   7   4  14   9 \n",
      " 13   9  18   2  13   4  11   1   3  16 \n",
      "  0   7  18  11   3   3  11  16  13  16 \n",
      "--- 1.179600 ms ---\n",
      "\n",
      "  0   0   1   1   7   7  10  11  12  14 \n",
      "  0   0   4   5   6  16  17  19  19  20 \n",
      "  0   1   3   4   6   6   7  12  13  16 \n",
      "  0   1   4   6   6   7   9  12  18  20 \n",
      "  0   3   3   7  11  11  13  16  16  18 \n",
      "  0   3   5   7  11  13  14  17  18  19 \n",
      "  1   2   3   4   9  11  13  13  16  18 \n",
      "  1   3   3   7  10  14  18  18  20  20 \n",
      "  2   2   3   4   5  10  14  14  16  17 \n",
      "  2   4   7   8   9   9  11  11  12  14 "
     ]
    }
   ],
   "source": [
    "# Быстрая сортировка.\n",
    "def fast_sort(sort:list, min, max):\n",
    "    if min >= max:\n",
    "        return\n",
    "    else:\n",
    "        rand = random.choice(sort[min:max + 1])\n",
    "        i = min\n",
    "        j = max\n",
    "        while i <= j:\n",
    "            while sort[i] < rand:\n",
    "                i += 1\n",
    "            while sort[j] > rand:\n",
    "                j -= 1\n",
    "            if i <= j:\n",
    "                sort[i], sort[j] = sort[j], sort[i]\n",
    "                i += 1\n",
    "                j -= 1\n",
    "                fast_sort(sort, min, j)\n",
    "                fast_sort(sort, i, max)\n",
    "\n",
    "mat = copy.deepcopy(matr)\n",
    "PrintMatr(mat)\n",
    "start_time = time.perf_counter()\n",
    "for rows in mat:\n",
    "    fast_sort(rows,0,len(rows)-1)\n",
    "fast_sort(mat,0,len(mat)-1)\n",
    "print(\"\\n--- {:6f} ms ---\".format((time.perf_counter() - start_time)*1000))\n",
    "PrintMatr(mat)"
   ]
  },
  {
   "cell_type": "code",
   "execution_count": 23,
   "id": "french-czech",
   "metadata": {},
   "outputs": [
    {
     "name": "stdout",
     "output_type": "stream",
     "text": [
      "\n",
      "  5  17   2   2   3  10  14   4  14  16 \n",
      "  4  16  12   6   6  13   7   1   0   3 \n",
      "  7   1   7   1   0   0  12  11  14  10 \n",
      "  3  18   1   3  20  18  14   7  10  20 \n",
      "  6   1   4  18   7   6   9  20  12   0 \n",
      " 11  19  18   7   3  17  14   0  13   5 \n",
      "  6  17  19   4   0   5  19  20   0  16 \n",
      " 11   9   2  11  12   8   7   4  14   9 \n",
      " 13   9  18   2  13   4  11   1   3  16 \n",
      "  0   7  18  11   3   3  11  16  13  16 \n",
      "--- 0.425700 ms ---\n",
      "\n",
      "  0   0   1   1   7   7  10  11  12  14 \n",
      "  0   0   4   5   6  16  17  19  19  20 \n",
      "  0   1   3   4   6   6   7  12  13  16 \n",
      "  0   1   4   6   6   7   9  12  18  20 \n",
      "  0   3   3   7  11  11  13  16  16  18 \n",
      "  0   3   5   7  11  13  14  17  18  19 \n",
      "  1   2   3   4   9  11  13  13  16  18 \n",
      "  1   3   3   7  10  14  18  18  20  20 \n",
      "  2   2   3   4   5  10  14  14  16  17 \n",
      "  2   4   7   8   9   9  11  11  12  14 "
     ]
    }
   ],
   "source": [
    "# Турнирная сортировка.\n",
    "def heapify(nums, heap_size, root_index):\n",
    "    largest = root_index\n",
    "    left_child = (2 * root_index) + 1\n",
    "    right_child = (2 * root_index) + 2\n",
    "\n",
    "    if left_child < heap_size and nums[left_child] > nums[largest]:\n",
    "        largest = left_child\n",
    "\n",
    "    if right_child < heap_size and nums[right_child] > nums[largest]:\n",
    "        largest = right_child\n",
    "\n",
    "    if largest != root_index:\n",
    "        nums[root_index], nums[largest] = nums[largest], nums[root_index]\n",
    "        heapify(nums, heap_size, largest)\n",
    "\n",
    "def heap_sort(sort:list):\n",
    "    n = len(sort)\n",
    "    \n",
    "    for i in range(n, -1, -1):\n",
    "        heapify(sort, n, i)\n",
    "        \n",
    "    for i in range(n - 1, 0, -1):\n",
    "        sort[i], sort[0] = sort[0], sort[i]\n",
    "        heapify(sort, i, 0)\n",
    "        \n",
    "mat = copy.deepcopy(matr)\n",
    "PrintMatr(mat)\n",
    "start_time = time.perf_counter()\n",
    "for rows in mat:\n",
    "    heap_sort(rows)\n",
    "heap_sort(mat)\n",
    "print(\"\\n--- {:6f} ms ---\".format((time.perf_counter() - start_time)*1000))\n",
    "PrintMatr(mat)"
   ]
  },
  {
   "cell_type": "markdown",
   "id": "rental-jerusalem",
   "metadata": {},
   "source": [
    "### Вывод\n"
   ]
  },
  {
   "cell_type": "code",
   "execution_count": null,
   "id": "19e7f6a9",
   "metadata": {},
   "outputs": [],
   "source": []
  }
 ],
 "metadata": {
  "kernelspec": {
   "display_name": "Python 3 (ipykernel)",
   "language": "python",
   "name": "python3"
  },
  "language_info": {
   "codemirror_mode": {
    "name": "ipython",
    "version": 3
   },
   "file_extension": ".py",
   "mimetype": "text/x-python",
   "name": "python",
   "nbconvert_exporter": "python",
   "pygments_lexer": "ipython3",
   "version": "3.9.7"
  }
 },
 "nbformat": 4,
 "nbformat_minor": 5
}
