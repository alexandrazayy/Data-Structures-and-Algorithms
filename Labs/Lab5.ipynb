{
 "cells": [
  {
   "cell_type": "markdown",
   "metadata": {
    "id": "WPvB9TcMmKA6"
   },
   "source": [
    "# Лабораторная работа №5\n",
    "## Выполнил студент группы БВТ2004 Зайцева Александра Юрьевна"
   ]
  },
  {
   "cell_type": "markdown",
   "metadata": {
    "id": "4clYOyb0mbEv"
   },
   "source": [
    "### Задание:\n",
    "Реализовать генерацию заданного типа фрактала с применением рекурсивных функций.\n",
    "\n",
    "\n",
    "Добавить возможность задания глубины фрактала. \n",
    "\n",
    "\n",
    "Оценить глубину рекурсии. \n",
    "\n",
    "\n",
    "Построить таблицу зависимости времени построения от глубины фрактала."
   ]
  },
  {
   "cell_type": "markdown",
   "metadata": {
    "id": "wDXHbUmMmhRL"
   },
   "source": [
    "### Список фракталов:\n",
    "\n",
    "Кривая Коха, кривая Гильберта, кривая Серпинского, салфетка Серпинского, ковер Серпинского, дерево Пифагора "
   ]
  },
  {
   "cell_type": "markdown",
   "metadata": {
    "id": "Wggfn8l7nG72"
   },
   "source": [
    "### Выполнение:"
   ]
  },
  {
   "cell_type": "code",
   "execution_count": 1,
   "metadata": {
    "id": "681a95mZnOSa"
   },
   "outputs": [
    {
     "name": "stdout",
     "output_type": "stream",
     "text": [
      "4\n",
      "1\n",
      "2\n",
      "3\n",
      "4\n",
      "Done\n"
     ]
    }
   ],
   "source": [
    "import turtle\n",
    "import time\n",
    "try:\n",
    "    turtle.reset()\n",
    "    t.ht()\n",
    "except:\n",
    "    pass\n",
    "rules = {\"+\" : \"+\", \"-\" : \"-\", \"F\" : \"F-F++F-F\"}\n",
    "\n",
    "\n",
    "def koh_line(n, axiom = \"F\"):\n",
    "    if n == 0:\n",
    "        return axiom\n",
    "    else:\n",
    "        temp = \"\"\n",
    "        for i in range(len(axiom)):\n",
    "            temp += rules[axiom[i]]\n",
    "        return koh_line(n - 1, temp)   \n",
    "\n",
    "    \n",
    "def draw_koh_line(n, size, t):\n",
    "    result = koh_line(n)\n",
    "    for el in result:\n",
    "        if el == \"+\":\n",
    "            t.rt(60)\n",
    "        elif el == \"-\":\n",
    "            t.lt(60)\n",
    "        else:\n",
    "            t.fd(size)\n",
    "    \n",
    "\n",
    "t = turtle.Turtle()\n",
    "t.ht()\n",
    "turtle.tracer(0)\n",
    "result = []\n",
    "size = 250\n",
    "n = int(input())\n",
    "for i in range(1, n+1):\n",
    "    t.clear()\n",
    "    print(i)\n",
    "    temp = []\n",
    "    temp.append(i)\n",
    "    t1 = time.time()\n",
    "    t.up()\n",
    "    t.setpos(-300, 0)\n",
    "    t.down()\n",
    "    draw_koh_line(i, size // (i * 9), t)\n",
    "    t2 = time.time()\n",
    "    turtle.update()\n",
    "    time.sleep(1)\n",
    "    temp.append(round((t2 - t1) * 1000))\n",
    "    result.append(temp)\n",
    "\n",
    "print(\"Done\")\n",
    "turtle.done()"
   ]
  },
  {
   "cell_type": "code",
   "execution_count": null,
   "metadata": {},
   "outputs": [],
   "source": []
  },
  {
   "cell_type": "code",
   "execution_count": 29,
   "metadata": {},
   "outputs": [
    {
     "name": "stdout",
     "output_type": "stream",
     "text": [
      "4\n",
      "1\n",
      "2\n",
      "3\n",
      "4\n",
      "Done\n"
     ]
    }
   ],
   "source": [
    "try:\n",
    "    turtle.reset()\n",
    "    t.ht()\n",
    "except:\n",
    "    pass\n",
    "\n",
    "rules = {\"+\" : \"+\", \"-\" : \"-\", \"A\" : \"-BF+AFA+FB-\", \"B\" : \"+AF-BFB-FA+\", \"F\": \"F\"}\n",
    "def gil_line(n, axiom = \"A\"):\n",
    "    if n == 0:\n",
    "        return axiom\n",
    "    else:\n",
    "        temp = \"\"\n",
    "        for i in range(len(axiom)):\n",
    "            temp += rules[axiom[i]]\n",
    "        return gil_line(n - 1, temp)\n",
    "            \n",
    "def draw_gil_line(n, size, t):\n",
    "    result = gil_line(n)\n",
    "    for el in result:\n",
    "        if el == \"+\":\n",
    "            t.rt(90)\n",
    "        elif el == \"-\":\n",
    "            t.lt(90)\n",
    "        elif el == \"F\":\n",
    "            t.fd(size)\n",
    "        else:\n",
    "            pass\n",
    "\n",
    "size = 300\n",
    "t = turtle.Turtle()\n",
    "turtle.tracer(0)\n",
    "t.speed(10000000)\n",
    "t.ht()\n",
    "result = []\n",
    "n = int(input())\n",
    "for i in range(1, n+1):\n",
    "    t.clear()\n",
    "    print(i)\n",
    "    temp = []\n",
    "    temp.append(i)\n",
    "    t1 = time.time()\n",
    "    t.up()\n",
    "    t.setpos(-300, -300)\n",
    "    t.down()\n",
    "    draw_gil_line(i, size // ((i * i) + 1), t)\n",
    "    t2 = time.time()\n",
    "    turtle.update()\n",
    "    time.sleep(1)\n",
    "    temp.append(round((t2 - t1) * 1000))\n",
    "    result.append(temp)\n",
    "\n",
    "    \n",
    "print(\"Done\")\n",
    "turtle.done()"
   ]
  },
  {
   "cell_type": "code",
   "execution_count": 11,
   "metadata": {},
   "outputs": [
    {
     "name": "stdout",
     "output_type": "stream",
     "text": [
      "1\n",
      "2\n",
      "3\n",
      "4\n",
      "Done\n"
     ]
    }
   ],
   "source": [
    "try:\n",
    "    turtle.reset()\n",
    "    t.ht()\n",
    "except:\n",
    "    pass\n",
    "\n",
    "rules = {\"+\" : \"+\", \"-\" : \"-\", \"F\" : \"F\", \"X\" : \"XF+F-F+XF-F-XF+F-F+X\"}\n",
    "def serp_line(n, axiom = \"F-XF-F-XF\"):\n",
    "    if n == 0:\n",
    "        return axiom\n",
    "    else:\n",
    "        temp = \"\"\n",
    "        for i in range(len(axiom)):\n",
    "            temp += rules[axiom[i]]\n",
    "        return serp_line(n - 1, temp)\n",
    "            \n",
    "def draw_serp_line(n, size, t):\n",
    "    result = serp_line(n)\n",
    "    for el in result:\n",
    "        if el == \"+\":\n",
    "            t.rt(90)\n",
    "        elif el == \"-\":\n",
    "            t.lt(90)\n",
    "        elif el == \"F\":\n",
    "            t.fd(size)\n",
    "size = 8\n",
    "t = turtle.Turtle()\n",
    "turtle.tracer(0)\n",
    "t.speed(10000000)\n",
    "t.ht()\n",
    "result = []\n",
    "n = int(input())\n",
    "for i in range(1, n+1):\n",
    "    t.clear()\n",
    "    print(i)\n",
    "    temp = []\n",
    "    temp.append(i)\n",
    "    t1 = time.time()\n",
    "    t.up()\n",
    "    t.setpos(0, 0)\n",
    "    t.down()\n",
    "    draw_serp_line(i, size - i, t)\n",
    "    t2 = time.time()\n",
    "    turtle.update()\n",
    "    time.sleep(1)\n",
    "    temp.append(round((t2 - t1) * 1000))\n",
    "    result.append(temp)\n",
    "\n",
    "    \n",
    "print(\"Done\")\n",
    "turtle.done()"
   ]
  },
  {
   "cell_type": "code",
   "execution_count": 12,
   "metadata": {},
   "outputs": [
    {
     "name": "stdout",
     "output_type": "stream",
     "text": [
      "1\n",
      "2\n",
      "3\n",
      "4\n",
      "Done\n"
     ]
    }
   ],
   "source": [
    "try:\n",
    "    turtle.reset()\n",
    "    t.ht()\n",
    "except:\n",
    "    pass\n",
    "\n",
    "rules = {\"+\" : \"+\", \"-\" : \"-\", \"F\" : \"FF\", \"X\" : \"++FXF--FXF--FXF++\"}\n",
    "def serp_triangle(n, axiom = \"FXF++FF++FF\"):\n",
    "    if n == 0:\n",
    "        return axiom\n",
    "    else:\n",
    "        temp = \"\"\n",
    "        for i in range(len(axiom)):\n",
    "            temp += rules[axiom[i]]\n",
    "        return serp_line(n - 1, temp)\n",
    "            \n",
    "def draw_serp_triangle(n, size, t):\n",
    "    result = serp_triangle(n)\n",
    "    for el in result:\n",
    "        if el == \"+\":\n",
    "            t.rt(60)\n",
    "        elif el == \"-\":\n",
    "            t.lt(60)\n",
    "        elif el == \"F\":\n",
    "            t.fd(size)\n",
    "size = 30\n",
    "t = turtle.Turtle()\n",
    "turtle.tracer(0)\n",
    "t.speed(10000000)\n",
    "t.ht()\n",
    "result = []\n",
    "t.left(-180)\n",
    "n = int(input())\n",
    "for i in range(1, n+1):\n",
    "    t.clear()\n",
    "    print(i)\n",
    "    temp = []\n",
    "    temp.append(i)\n",
    "    t1 = time.time()\n",
    "    t.up()\n",
    "    t.setpos(0, 0)\n",
    "    t.down()\n",
    "    draw_serp_triangle(i, size - (i * i), t)\n",
    "    t2 = time.time()\n",
    "    turtle.update()\n",
    "    time.sleep(1)\n",
    "    temp.append(round((t2 - t1) * 1000))\n",
    "    result.append(temp)\n",
    "    \n",
    "print(\"Done\")\n",
    "turtle.done()"
   ]
  },
  {
   "cell_type": "code",
   "execution_count": 14,
   "metadata": {
    "scrolled": true
   },
   "outputs": [
    {
     "name": "stdout",
     "output_type": "stream",
     "text": [
      "1\n",
      "2\n",
      "3\n",
      "4\n",
      "Done\n"
     ]
    }
   ],
   "source": [
    "try:\n",
    "    turtle.reset()\n",
    "    t.ht()\n",
    "except:\n",
    "    pass\n",
    "\n",
    "rules = {\"+\" : \"+\", \"-\" : \"-\", \"F\" : \"FFF\", \"X\" : \"XFXFX-F+X-F+X--F--X--F--X+F-X+F-\"}\n",
    "def serp_carpet(n, axiom = \"X\"):\n",
    "    if n == 0:\n",
    "        return axiom\n",
    "    else:\n",
    "        temp = \"\"\n",
    "        for i in range(len(axiom)):\n",
    "            temp += rules[axiom[i]]\n",
    "        return serp_carpet(n - 1, temp)\n",
    "            \n",
    "def draw_serp_carpet(n, size, t):\n",
    "    result = serp_carpet(n)\n",
    "    for el in result:\n",
    "        if el == \"+\":\n",
    "            t.rt(90)\n",
    "        elif el == \"-\":\n",
    "            t.lt(90)\n",
    "        elif el == \"F\":\n",
    "            t.fd(size)\n",
    "size = 27\n",
    "t = turtle.Turtle()\n",
    "#t.pensize(size)\n",
    "turtle.tracer(0)\n",
    "t.speed(10000000)\n",
    "t.ht()\n",
    "result = []\n",
    "turtle.update()\n",
    "n = int(input())\n",
    "for i in range(1, n+1):\n",
    "    t.clear()\n",
    "    print(i)\n",
    "    temp = []\n",
    "    temp.append(i)\n",
    "    t1 = time.time()\n",
    "    t.up()\n",
    "    t.setpos(-300, -300)\n",
    "    t.down()\n",
    "    t.pensize(size - (i * i))\n",
    "    draw_serp_carpet(i, size - (i * i), t)\n",
    "    t2 = time.time()\n",
    "    turtle.update()\n",
    "    time.sleep(1)\n",
    "    temp.append(round((t2 - t1) * 1000))\n",
    "    result.append(temp)\n",
    "\n",
    "print(\"Done\")\n",
    "turtle.done()"
   ]
  },
  {
   "cell_type": "code",
   "execution_count": 15,
   "metadata": {},
   "outputs": [
    {
     "name": "stdout",
     "output_type": "stream",
     "text": [
      "1\n",
      "2\n",
      "3\n",
      "4\n",
      "5\n",
      "Done\n"
     ]
    }
   ],
   "source": [
    "try:\n",
    "    turtle.reset()\n",
    "    t.ht()\n",
    "except:\n",
    "    pass\n",
    "\n",
    "rules = {\"[\" : \"[\", \"]\" : \"]\", \"0\" : \"1[0]0\", \"1\" : \"11\"}\n",
    "def pif_tree(n, axiom = \"0\"):\n",
    "    if n == 0:\n",
    "        return axiom\n",
    "    else:\n",
    "        temp = \"\"\n",
    "        for i in range(len(axiom)):\n",
    "            temp += rules[axiom[i]]\n",
    "        return pif_tree(n - 1, temp)\n",
    "            \n",
    "def draw_pif_tree(n, size, t):\n",
    "    result = pif_tree(n)\n",
    "    stack = list()\n",
    "    for el in result:\n",
    "        if el == \"[\":\n",
    "            stack.append(t.pos())\n",
    "            stack.append(t.heading())\n",
    "            t.lt(45)\n",
    "        elif el == \"]\":\n",
    "            t.up()\n",
    "            t.setheading(stack.pop())\n",
    "            t.setpos(stack.pop())\n",
    "            t.down()\n",
    "            t.rt(45)\n",
    "        else:\n",
    "            t.fd(size)\n",
    "size = 10\n",
    "t = turtle.Turtle()\n",
    "turtle.tracer(0)\n",
    "t.speed(10000000)\n",
    "t.ht()\n",
    "result = []\n",
    "turtle.update()\n",
    "n = int(input())\n",
    "for i in range(1, n+1):\n",
    "    t.clear()\n",
    "    t.setheading(90)\n",
    "    print(i)\n",
    "    temp = []\n",
    "    temp.append(i)\n",
    "    t1 = time.time()\n",
    "    t.up()\n",
    "    t.setpos(0, -300)\n",
    "    t.down()\n",
    "    draw_pif_tree(i, size, t)\n",
    "    t2 = time.time()\n",
    "    turtle.update()\n",
    "    time.sleep(1)\n",
    "    temp.append(round((t2 - t1) * 1000))\n",
    "    result.append(temp)\n",
    "\n",
    "print(\"Done\")\n",
    "turtle.done()"
   ]
  },
  {
   "cell_type": "markdown",
   "metadata": {
    "id": "diOb-K7LnO5a"
   },
   "source": [
    "### Вывод"
   ]
  }
 ],
 "metadata": {
  "colab": {
   "collapsed_sections": [],
   "name": "Lab5.ipynb",
   "provenance": []
  },
  "kernelspec": {
   "display_name": "Python 3 (ipykernel)",
   "language": "python",
   "name": "python3"
  },
  "language_info": {
   "codemirror_mode": {
    "name": "ipython",
    "version": 3
   },
   "file_extension": ".py",
   "mimetype": "text/x-python",
   "name": "python",
   "nbconvert_exporter": "python",
   "pygments_lexer": "ipython3",
   "version": "3.9.7"
  }
 },
 "nbformat": 4,
 "nbformat_minor": 1
}
