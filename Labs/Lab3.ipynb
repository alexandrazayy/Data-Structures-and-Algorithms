{
 "cells": [
  {
   "cell_type": "markdown",
   "id": "db4b50f0",
   "metadata": {},
   "source": [
    "# Лабораторная работа №3\n",
    "## Выполнила студентка группы Зайцева Александра БВТ2004"
   ]
  },
  {
   "cell_type": "markdown",
   "id": "annual-symbol",
   "metadata": {},
   "source": [
    "### Оглавление\n",
    "1. [Задание 1](#Задание-№1)\n",
    "2. [Задание 2](#Задание-№2)\n",
    "4. [Вывод](#Вывод)"
   ]
  },
  {
   "cell_type": "markdown",
   "id": "independent-spirit",
   "metadata": {},
   "source": [
    "> Дополнительные модули, использованные при выполнение лабораторной"
   ]
  },
  {
   "cell_type": "code",
   "execution_count": 1,
   "id": "4839be2b",
   "metadata": {},
   "outputs": [
    {
     "name": "stdout",
     "output_type": "stream",
     "text": [
      "Введите строку: лилилась лилилось\n",
      "Введите подстроку: лило\n",
      "Игнорировать регистр(0/1): 1\n",
      "\n",
      "11\n",
      "Стандартное время поска подстроки: 0.287500\n"
     ]
    }
   ],
   "source": [
    "# Необходим при замере скорости выполнения кода\n",
    "import time as t\n",
    "# Нужен для создания словаря в алг. Бойера-Мура\n",
    "from collections import defaultdict as dictionary\n",
    "\n",
    "string = input('Введите строку: ')\n",
    "substr = input('Введите подстроку: ')\n",
    "ignore = bool(input('Игнорировать регистр(0/1): '))\n",
    "\n",
    "print(\"\\n\"+str(string.find(substr)))\n",
    "start_time = t.perf_counter()\n",
    "string.find(substr)\n",
    "print(\"Стандартное время поска подстроки: {:6f}\".format((t.perf_counter() - start_time)*1000))\n"
   ]
  },
  {
   "cell_type": "markdown",
   "id": "inclusive-motorcycle",
   "metadata": {},
   "source": [
    "### Задание №1\n",
    "Реализовать методы поиска подстроки в строке. Добавить возможность ввода строки и подстроки с клавиатуры. Предусмотреть возможность существования пробела. Реализовать возможность выбора опции чувствительности или нечувствительности к регистру. Оценить время работы каждого алгоритма поиска и сравнить его со временем работы стандартной функции поиска, используемой в выбранном языке программирования."
   ]
  },
  {
   "cell_type": "markdown",
   "id": "interracial-communication",
   "metadata": {},
   "source": [
    "#### Алгоритм Кнута-Морриса-Пратта"
   ]
  },
  {
   "cell_type": "code",
   "execution_count": 2,
   "id": "presidential-level",
   "metadata": {},
   "outputs": [
    {
     "name": "stdout",
     "output_type": "stream",
     "text": [
      "11\n",
      "Время работы алгоритма: 0.281400 ms\n"
     ]
    }
   ],
   "source": [
    "def pref(str, j = 1, i = 0):\n",
    "    p = [0]*len(str)\n",
    "    while j < len(str):\n",
    "        if str[i] == str[j]:\n",
    "            p[j] = i + 1\n",
    "            j, i = j + 1, i + 1\n",
    "        elif i == 0:\n",
    "            p[j] = 0\n",
    "            j += 1\n",
    "        else:\n",
    "            i = p[i - 1]\n",
    "    return p\n",
    "\n",
    "def kmp(String:str, Substring:str, isignore = False) -> str:\n",
    "    if isignore:\n",
    "        String = String.lower()\n",
    "        Substring = Substring.lower()\n",
    "    p = pref(Substring)\n",
    "    i, j = 0, 0\n",
    "    while i < len(String):\n",
    "        if String[i] == Substring[j]:\n",
    "            i, j = i + 1, j + 1\n",
    "            if j == len(Substring):\n",
    "                return i-len(Substring)\n",
    "        elif j > 0:\n",
    "            j = p[j-1]\n",
    "        else:\n",
    "            i += 1\n",
    "    return -1\n",
    "\n",
    "print(kmp(string,substr,ignore))\n",
    "start_time = t.perf_counter()\n",
    "kmp(string,substr,ignore)\n",
    "print(\"Время работы алгоритма: {:6f} ms\".format((t.perf_counter() - start_time)*1000))"
   ]
  },
  {
   "cell_type": "markdown",
   "id": "downtown-option",
   "metadata": {},
   "source": [
    "#### Упрощенный алгоритм Бойера-Мура"
   ]
  },
  {
   "cell_type": "code",
   "execution_count": 3,
   "id": "respective-reggae",
   "metadata": {},
   "outputs": [
    {
     "name": "stdout",
     "output_type": "stream",
     "text": [
      "11\n",
      "Время работы алгоритма: 0.461400 ms\n"
     ]
    }
   ],
   "source": [
    "def offset(Substring):\n",
    "    for i in range(len(Substring)-2,-1,-1):\n",
    "        if Substring[i] not in dict:\n",
    "            dict[Substring[i]] = len(Substring)-i-1\n",
    "    if Substring[len(Substring)-1] not in dict:\n",
    "        dict[Substring[len(Substring)-1]] = len(Substring)\n",
    "    dict['*'] = len(Substring)\n",
    "def bm(String:str,Substring:str,isIgnore = False):\n",
    "    offset(Substring)\n",
    "    if isIgnore:\n",
    "        String = String.lower()\n",
    "        Substring = Substring.lower()\n",
    "    i, j = len(Substring)-1, len(Substring)-1\n",
    "    while i < len(String):\n",
    "        if String[i] == Substring[j]:\n",
    "            if j == 0:\n",
    "                return i\n",
    "            i -= 1\n",
    "            j -= 1\n",
    "        elif String[i] in dict:\n",
    "            i += dict.get(String[i])\n",
    "            j = len(Substring) - 1\n",
    "        else:\n",
    "            i += dict.get('*')\n",
    "    return -1\n",
    "\n",
    "dict = dictionary(int)\n",
    "print(bm(string,substr))\n",
    "start_time = t.perf_counter()\n",
    "bm(string,substr,ignore)\n",
    "print(\"Время работы алгоритма: {:6f} ms\".format((t.perf_counter() - start_time)*1000))"
   ]
  },
  {
   "cell_type": "markdown",
   "id": "hybrid-memorial",
   "metadata": {},
   "source": [
    "### Задание №2\n",
    "Написать программу, определяющую, является ли данное\n",
    "расположение «решаемым», то есть можно ли из него за конечное число\n",
    "шагов перейти к правильному. Если это возможно, то необходимо найти хотя\n",
    "бы одно решение - последовательность движений, после которой числа будут\n",
    "расположены в правильном порядке.\n",
    "#### Входные данные: массив чисел, представляющий собой расстановку в\n",
    "Порядке «слева направо, сверху вниз». Число 0 обозначает пустое поле.\n",
    "Например, массив [1, 2, 3, 4, 5, 6, 7, 8, 9, 10, 11, 12, 13, 14, 15, 0] представляет\n",
    "собой «решенную» позицию элементов.\n",
    "#### Выходные данные: если решения нет, то функция должна вернуть\n",
    "Пустой массив []. Если решение есть, то необходимо представить решение —\n",
    "для каждого шага записывается номер передвигаемого на данном шаге\n",
    "элемента. "
   ]
  },
  {
   "cell_type": "code",
   "execution_count": 3,
   "id": "eleven-generic",
   "metadata": {},
   "outputs": [
    {
     "name": "stdout",
     "output_type": "stream",
     "text": [
      "[15, 14, 10, 13, 9, 10, 14, 15]\n"
     ]
    }
   ],
   "source": [
    "import math\n",
    "from queue import PriorityQueue\n",
    "\n",
    "N = 4 #размерность игры\n",
    "SOLVED = (1, 2, 3, 4, 5, 6, 7, 8, 9, 10, 11, 12, 13, 14, 15, 0)\n",
    "start = [1, 2, 3, 4, 5, 6, 7, 8, 13, 9, 11, 12, 10, 14, 15, 0]\n",
    "\n",
    "#проверка решаемости позиции\n",
    "def reshenie(mass): \n",
    "    summ=int(0)\n",
    "    for i in range(len(mass)):\n",
    "        for j in range(i, len(mass)):\n",
    "            if mass[i]==0:\n",
    "                summ=summ+math.floor((i+1)/4)\n",
    "            elif mass[i]>mass[j]:\n",
    "                summ += 1\n",
    "    return summ%2==1\n",
    "\n",
    "def moves(position):\n",
    "    blank = position.index(0)\n",
    "    i, j = divmod(blank, N)\n",
    "    offsets = []\n",
    "    if i > 0: offsets.append(-N)     # вниз\n",
    "    if i < N - 1: offsets.append(N)  # вверх\n",
    "    if j > 0: offsets.append(-1)     # вправо\n",
    "    if j < N - 1: offsets.append(1)  # влево\n",
    "    for offset in offsets:\n",
    "        swap = blank + offset\n",
    "        yield tuple(position[swap] if x==blank else position[blank] if x==swap else position[x] for x in range(N*N))\n",
    "\n",
    "class Position:\n",
    "    def __init__(self, position, start_distance):\n",
    "        self.position = position\n",
    "        self.start_distance = start_distance\n",
    "\n",
    "    def __lt__(self, other):\n",
    "        return self.start_distance < other.start_distance\n",
    "\n",
    "if reshenie(start) == 0:\n",
    "    print('Нерешаемая позиция')\n",
    "else:\n",
    "    # картеж\n",
    "    start = tuple(start)\n",
    "    p = Position(start, 0)\n",
    "    # очередь \n",
    "    candidates = PriorityQueue()\n",
    "    candidates.put(p)\n",
    "    # множество \n",
    "    visited = set([p])\n",
    "\n",
    "    came_from = {p.position: None}\n",
    "    \n",
    "    while p.position != SOLVED:\n",
    "        p = candidates.get()\n",
    "        for k in moves(p.position):\n",
    "            if k not in visited:\n",
    "                candidates.put(Position(k, p.start_distance + 1))\n",
    "                came_from[k] = p\n",
    "                visited.add(k)\n",
    "    path = []\n",
    "    prev = p\n",
    "    while p.position != start:\n",
    "        p = came_from[p.position]\n",
    "        number = p.position[prev.position.index(0)]\n",
    "        path.append(number)\n",
    "        prev = p\n",
    "    path.reverse()\n",
    "\n",
    "    print(path)"
   ]
  },
  {
   "cell_type": "markdown",
   "id": "arbitrary-amazon",
   "metadata": {},
   "source": [
    "### Вывод"
   ]
  },
  {
   "cell_type": "markdown",
   "id": "71bc58bf",
   "metadata": {},
   "source": []
  }
 ],
 "metadata": {
  "kernelspec": {
   "display_name": "Python 3 (ipykernel)",
   "language": "python",
   "name": "python3"
  },
  "language_info": {
   "codemirror_mode": {
    "name": "ipython",
    "version": 3
   },
   "file_extension": ".py",
   "mimetype": "text/x-python",
   "name": "python",
   "nbconvert_exporter": "python",
   "pygments_lexer": "ipython3",
   "version": "3.9.7"
  }
 },
 "nbformat": 4,
 "nbformat_minor": 5
}
