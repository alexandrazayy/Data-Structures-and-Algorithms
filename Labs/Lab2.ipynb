{
 "cells": [
  {
   "cell_type": "markdown",
   "id": "fifteen-sailing",
   "metadata": {},
   "source": [
    "# Лабораторная работа №2\n",
    "## Выполнила студентка группы БВТ2004 Зайцева Александра"
   ]
  },
  {
   "cell_type": "markdown",
   "id": "particular-syndicate",
   "metadata": {},
   "source": [
    "### Оглавление\n",
    "1. [Задание 1](#Задание-№1)\n",
    "2. [Задание 2](#Задание-№2)\n",
    "3. [Задание 3](#Задание-№3)"
   ]
  },
  {
   "cell_type": "markdown",
   "id": "arctic-stocks",
   "metadata": {},
   "source": [
    "### Задание №1\n",
    "Реализовать методы поиска в соответствии с заданием. Организовать генерацию начального набора случайных данных. Для всех вариантов добавить реализацию добавления, поиска и удаления элементов. Оценить время работы каждого алгоритма поиска и сравнить его со временем работы стандартной функции поиска, используемой в выбранном языке программирования."
   ]
  },
  {
   "cell_type": "code",
   "execution_count": 1,
   "id": "caring-truck",
   "metadata": {
    "scrolled": true
   },
   "outputs": [
    {
     "name": "stdout",
     "output_type": "stream",
     "text": [
      "20\n",
      "0\n",
      "50\n",
      "[3, 6, 7, 9, 10, 11, 12, 12, 13, 18, 32, 33, 33, 33, 38, 44, 44, 45, 45, 50]\n"
     ]
    }
   ],
   "source": [
    "#Генерация начального набора случайных данных\n",
    "import time\n",
    "from random import randint\n",
    "import copy\n",
    "\n",
    "length = int(input())\n",
    "min = int(input())\n",
    "max = int(input())\n",
    "\n",
    "list = []\n",
    "for i in range(length):\n",
    "    list.append(randint(min, max))\n",
    "\n",
    "list.sort() \n",
    "element = list[randint(0, length - 1)]\n",
    "\n",
    "print(list)"
   ]
  },
  {
   "cell_type": "code",
   "execution_count": 2,
   "id": "9b15fcb0",
   "metadata": {},
   "outputs": [
    {
     "name": "stdout",
     "output_type": "stream",
     "text": [
      "Key:  9\n",
      "Found index:  3\n",
      "--- 0.00000 ms ---\n"
     ]
    }
   ],
   "source": [
    "#Бинарный поиск\n",
    "def BinarySearch(array, key):\n",
    "    first = 0\n",
    "    last = len(array)-1\n",
    "    index = -1\n",
    "    while (first <= last) and (index == -1):\n",
    "        mid = (first + last) // 2\n",
    "        if array[mid] == key:\n",
    "            index = mid\n",
    "            break\n",
    "        else:\n",
    "            if key < array[mid]:\n",
    "                last = mid -1\n",
    "            else:\n",
    "                first = mid +1\n",
    "    return index\n",
    "\n",
    "start_time = time.time()\n",
    "print(\"Key: \", element)\n",
    "print(\"Found index: \", BinarySearch(list, element))\n",
    "binary_time = (time.time() - start_time)*1000\n",
    "print(\"--- {:.5f} ms ---\".format(binary_time))"
   ]
  },
  {
   "cell_type": "code",
   "execution_count": 3,
   "id": "75af3ea8",
   "metadata": {},
   "outputs": [
    {
     "name": "stdout",
     "output_type": "stream",
     "text": [
      "Найти:  9\n",
      "Удалить: 1\n",
      "Добавить: 100\n",
      "3\n",
      "Индекс ячейки:  None\n",
      "Новый массив с добавлением элемента:  [3, 6, 7, 9, 10, 11, 12, 12, 13, 18, 32, 33, 33, 33, 38, 44, 44, 45, 45, 50, 100]\n",
      "Новый массив с удалением:  [3, 7, 9, 10, 11, 12, 12, 13, 18, 32, 33, 33, 33, 38, 44, 44, 45, 45, 50, 100]\n"
     ]
    }
   ],
   "source": [
    "#Бинарное дерево\n",
    "def Tree(tree, data, i):\n",
    "    if tree is None:\n",
    "        tree = {D: data, L: None, R: None, I: i}\n",
    "    elif data <= tree[D]:\n",
    "        tree[L] = Tree(tree[L], data, i)\n",
    "    else:\n",
    "        tree[R] = Tree(tree[R], data, i)\n",
    "    return tree\n",
    "\n",
    "def TreeSearch(tree):\n",
    "    if element < tree[D] and tree[L] != None:\n",
    "        TreeSearch(tree[L])\n",
    "    elif element > tree[D] and tree[R] != None:\n",
    "        TreeSearch(tree[R])\n",
    "    elif element == tree[D]:\n",
    "        print(tree[I])\n",
    "    else:\n",
    "        print(\"Не найдено\")\n",
    "\n",
    "def TreeDelete(tree, list, value):\n",
    "    list.pop(value)\n",
    "    tree = None\n",
    "    for i, el in enumerate(list):\n",
    "        tree = Tree(tree, el, i)\n",
    "        \n",
    "def TreeAdd(tree, list, val_a):\n",
    "    list.append(val_a)\n",
    "    Tree(tree, val_a, len(list))        \n",
    "\n",
    "print (\"Найти: \", element)\n",
    "\n",
    "value_delete = int(input(\"Удалить: \"))\n",
    "\n",
    "value_add = int(input(\"Добавить: \"))\n",
    "\n",
    "D, L, R, I = 'data', 'left', 'right', 'index'\n",
    "p = 0\n",
    "tree = None\n",
    "for i, el in enumerate(list):\n",
    "    tree = Tree(tree, el, i)\n",
    "    \n",
    "print(\"Индекс ячейки: \", TreeSearch(tree))\n",
    "\n",
    "TreeAdd(tree, list, value_add)\n",
    "print(\"Новый массив с добавлением элемента: \", list)\n",
    "\n",
    "TreeDelete(tree, list, value_delete)\n",
    "print(\"Новый массив с удалением: \", list)"
   ]
  },
  {
   "cell_type": "code",
   "execution_count": null,
   "id": "abe4b0b4",
   "metadata": {},
   "outputs": [],
   "source": [
    "#Метод Фибоначчи\n",
    "\n",
    "def fib_Search(mas,n):\n",
    "    fibM_minus_2 = 0\n",
    "    fibM_minus_1 = 1\n",
    "    fibM = fibM_minus_1 + fibM_minus_2\n",
    "    while (fibM < len(mas)):\n",
    "        fibM_minus_2 = fibM_minus_1\n",
    "        fibM_minus_1 = fibM\n",
    "        fibM = fibM_minus_1 + fibM_minus_2\n",
    "    index = -1;\n",
    "    while (fibM > 1):\n",
    "        i = min(index + fibM_minus_2, (len(mas)-1))\n",
    "        if (mas[i] < n):\n",
    "            fibM = fibM_minus_1\n",
    "            fibM_minus_1 = fibM_minus_2\n",
    "            fibM_minus_2 = fibM - fibM_minus_1\n",
    "            index = i\n",
    "        elif (mas[i] > n):\n",
    "            fibM = fibM_minus_2\n",
    "            fibM_minus_1 = fibM_minus_1 - fibM_minus_2\n",
    "            fibM_minus_2 = fibM - fibM_minus_1\n",
    "        else :\n",
    "            return i\n",
    "    if(fibM_minus_1 and index < (len(mas)-1) and mas[index+1] == n):\n",
    "        return index+1;\n",
    "    return -1\n",
    "\n",
    "start_time = time.time()\n",
    "print(fib_Search(list, element))\n",
    "fibonacci_time = round((time.time() - start_time)*1000)\n",
    "print(\"--- {:.5f} ms ---\".format(fibonacci_time))"
   ]
  },
  {
   "cell_type": "code",
   "execution_count": 5,
   "id": "34ec2894",
   "metadata": {},
   "outputs": [
    {
     "name": "stdout",
     "output_type": "stream",
     "text": [
      "2\n",
      "--- 1.00231170654 ms ---\n"
     ]
    }
   ],
   "source": [
    "#Интерполяционный\n",
    "\n",
    "def interpolationSearch(arr, val):\n",
    "    low = 0 \n",
    "    high = len(arr)-1 \n",
    "    while low <= high and val >= arr[low] and val <= arr[high]:\n",
    "        m = low + (high-low)*(val-arr[low])//(arr[high]-arr[low]) \n",
    "        if arr[m] == val: \n",
    "            return m \n",
    "        elif arr[m] < val:\n",
    "            low = m+1 \n",
    "        else: \n",
    "            high = m-1 \n",
    "    return -1\n",
    "\n",
    "start_time = time.time()\n",
    "print(interpolationSearch(list, element))\n",
    "interpolation_time = (time.time() - start_time)*1000\n",
    "print(\"--- {:.11f} ms ---\".format(interpolation_time))"
   ]
  },
  {
   "cell_type": "markdown",
   "id": "maritime-conversation",
   "metadata": {},
   "source": [
    "### Задание №2\n",
    "Написать соответствующие решения для заданных методов."
   ]
  },
  {
   "cell_type": "code",
   "execution_count": 6,
   "id": "97f9de37",
   "metadata": {},
   "outputs": [
    {
     "name": "stdout",
     "output_type": "stream",
     "text": [
      "[13, 4, 25, 16, 20, 58, 99, 5, 10, 33]\n",
      "{103: 13, 104: 4, 105: 25, 106: 16, 100: 20, 108: 58, 109: 99, 107: 5, 101: 10, 110: 33}\n"
     ]
    }
   ],
   "source": [
    "#Простое рехэширование\n",
    "import random\n",
    "def gethash(x, n):\n",
    "    return 100 + x % n\n",
    "\n",
    "mas = []\n",
    "n = 10\n",
    "for i in range(n):\n",
    "    mas.append(random.randint(0, 100))\n",
    "addresses = dict()\n",
    "for num in mas:\n",
    "    address = gethash(num, n)\n",
    "    while addresses.get(address):\n",
    "        address += 1\n",
    "    addresses[address] = num\n",
    "print(mas)\n",
    "print(addresses)"
   ]
  },
  {
   "cell_type": "code",
   "execution_count": 7,
   "id": "b4b80e3a",
   "metadata": {},
   "outputs": [
    {
     "name": "stdout",
     "output_type": "stream",
     "text": [
      "[24, 39, 32, 84, 78, 5, 5, 13, 67, 51]\n",
      "[12, 10, 15, 17, 13, 18, 13, 18, 18, 12, 12, 10, 16, 17, 18]\n",
      "{16: 24, 21: 39, 14: 32, 19: 84, 20: 78, 17: 5, 15: 5, 13: 13, 22: 67, 11: 51}\n"
     ]
    }
   ],
   "source": [
    "#Рехэширование с помощью псевдослучайных чисел\n",
    "import random\n",
    "def gethash(x, n, add):\n",
    "    return x % n + add\n",
    "\n",
    "mas = []\n",
    "n = 10\n",
    "for i in range(n):\n",
    "    mas.append(random.randint(0, 100))\n",
    "mas_hash = []\n",
    "m = 15\n",
    "for i in range(m):\n",
    "    mas_hash.append(random.randint(10, 20))\n",
    "addresses = dict()\n",
    "for num in mas:\n",
    "    address = gethash(num, n, mas_hash[0])\n",
    "    i = 1\n",
    "    while addresses.get(address):\n",
    "        address = gethash(num, n, mas_hash[i])\n",
    "        i += 1\n",
    "    addresses[address] = num\n",
    "print(mas)\n",
    "print(mas_hash)\n",
    "print(addresses)"
   ]
  },
  {
   "cell_type": "code",
   "execution_count": 8,
   "id": "1addc092",
   "metadata": {},
   "outputs": [
    {
     "name": "stdout",
     "output_type": "stream",
     "text": [
      "[97, 52, 5, 40, 36, 68, 24, 70, 48, 16]\n",
      "{107: [97], 102: [52], 105: [5], 100: [40, 70], 106: [36, 16], 108: [68, 48], 104: [24]}\n"
     ]
    }
   ],
   "source": [
    "#Метод цепочек\n",
    "import random\n",
    "def gethash(x, n):\n",
    "    return 100 + x % n\n",
    "mas = []\n",
    "n = 10\n",
    "for i in range(n):\n",
    "    mas.append(random.randint(0, 100))\n",
    "print(mas)\n",
    "addresses = dict()\n",
    "for num in mas:\n",
    "    address = gethash(num, n)\n",
    "    if addresses.get(address):\n",
    "        addresses[address].append(num)\n",
    "    else:\n",
    "        addresses[address] = [num]\n",
    "print(addresses)"
   ]
  },
  {
   "cell_type": "markdown",
   "id": "catholic-roots",
   "metadata": {},
   "source": [
    "### Задание №3\n",
    "Расставить на стандартной 64-клеточной шахматной доске 8 ферзей так, чтобы ни один из них не находился под боем другого». Подразумевается, что ферзь бьёт все клетки, расположенные по вертикалям, горизонталям и обеим диагоналям\n",
    "Написать программу,  которая находит хотя бы один способ решения задач.\n"
   ]
  },
  {
   "cell_type": "code",
   "execution_count": 9,
   "id": "09de30c9",
   "metadata": {},
   "outputs": [
    {
     "name": "stdout",
     "output_type": "stream",
     "text": [
      "[[8, 7], [2, 3], [1, 6], [7, 4], [6, 2], [4, 8], [5, 5], [3, 1]]\n"
     ]
    }
   ],
   "source": [
    "import random as r\n",
    "ferzi = []\n",
    "while len(ferzi) < 8:\n",
    "    ferzi = []\n",
    "    doskat = [[i, j] for i in range(1,9) for j in range(1,9)]\n",
    "    for _ in range(8):\n",
    "        t = r.randint(0,len(doskat)-1)\n",
    "        ferzi.append(doskat.pop(t))\n",
    "        rm = []\n",
    "        for i, e in enumerate(doskat):\n",
    "            if e[0] == ferzi[-1][0]:\n",
    "                rm.append(i)\n",
    "                continue\n",
    "            if e[1] == ferzi[-1][1]:\n",
    "                rm.append(i)\n",
    "                continue\n",
    "            if (e[0] + e[1]) == (ferzi[-1][0] + ferzi[-1][1]):\n",
    "                rm.append(i)\n",
    "                continue\n",
    "            if (e[0] - e[1]) == (ferzi[-1][0] - ferzi[-1][1]):\n",
    "                rm.append(i)\n",
    "        k = 0\n",
    "        for i in rm:\n",
    "            doskat.pop(i - k)\n",
    "            k += 1\n",
    "        if len(doskat) == 0:\n",
    "            break\n",
    "print(ferzi)"
   ]
  }
 ],
 "metadata": {
  "kernelspec": {
   "display_name": "Python 3 (ipykernel)",
   "language": "python",
   "name": "python3"
  },
  "language_info": {
   "codemirror_mode": {
    "name": "ipython",
    "version": 3
   },
   "file_extension": ".py",
   "mimetype": "text/x-python",
   "name": "python",
   "nbconvert_exporter": "python",
   "pygments_lexer": "ipython3",
   "version": "3.9.7"
  }
 },
 "nbformat": 4,
 "nbformat_minor": 5
}
