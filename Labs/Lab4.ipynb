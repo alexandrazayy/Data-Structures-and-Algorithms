{
 "cells": [
  {
   "cell_type": "markdown",
   "id": "fifteen-sailing",
   "metadata": {},
   "source": [
    "# Лабораторная работа №4\n",
    "## Выполнил студент группы БВТ2004 Зайцева Александра Юрьевна"
   ]
  },
  {
   "cell_type": "markdown",
   "id": "arctic-stocks",
   "metadata": {},
   "source": [
    "Реализовать следующие структуры данных:\n",
    "  \n",
    "● <b> Стек (stack): </b>  \n",
    "Операции для стека: \n",
    "<i> инициализация, проверка на пустоту, добавление нового элемента в начало, извлечение элемента из начала;  </i>  \n",
    "  \n",
    "● <b> Дек (двусторонняя очередь, deque):  </b>  \n",
    "Операции для дека: \n",
    "<i> инициализация, проверка на пустоту, добавление нового элемента в начало, добавление нового элемента в конец, извлечение элемента из начала, извлечение элемента из конца. </i>  \n",
    "  \n",
    "<i> Разработать программу обработки данных, содержащихся в заранее подготовленном txt-файле, в соответствии с заданиями, применив указанную в задании структуру данных. Результат работы программы вывести на экран и сохранить в отдельном txt-файле. </i>"
   ]
  },
  {
   "cell_type": "code",
   "execution_count": 1,
   "id": "f715ddf0",
   "metadata": {},
   "outputs": [],
   "source": [
    "class Stack:\n",
    "    \n",
    "    def __init__(self):\n",
    "        self.items = []\n",
    "\n",
    "    def isEmpty(self):\n",
    "        return self.items == []\n",
    "\n",
    "    def push(self, item):\n",
    "        self.items.append(item)\n",
    "\n",
    "    def pop(self):\n",
    "        return self.items.pop()\n",
    "\n",
    "    def peek(self):\n",
    "        return self.items[len(self.items)-1]\n",
    "\n",
    "    def size(self):\n",
    "        return len(self.items)\n",
    "\n",
    "    \n",
    "class Deque:\n",
    "    \n",
    "    def __init__(self):\n",
    "        self.items = []\n",
    "\n",
    "    def isEmpty(self):\n",
    "        return self.items == []\n",
    "\n",
    "    def addFront(self, item):\n",
    "        self.items.append(item)\n",
    "\n",
    "    def addRear(self, item):\n",
    "        self.items.insert(0,item)\n",
    "\n",
    "    def removeFront(self):\n",
    "        return self.items.pop()\n",
    "\n",
    "    def removeRear(self):\n",
    "        return self.items.pop(0)\n",
    "\n",
    "    def size(self):\n",
    "        return len(self.items)\n",
    "    \n",
    "    def peek(self):\n",
    "        return self.items[-1]"
   ]
  },
  {
   "cell_type": "markdown",
   "id": "5d7edb08",
   "metadata": {
    "scrolled": true
   },
   "source": [
    "### Задание №1\n",
    "Отсортировать строки файла, содержащие названия книг, в алфавитном порядке с использованием двух деков."
   ]
  },
  {
   "cell_type": "code",
   "execution_count": 2,
   "id": "17702ade",
   "metadata": {},
   "outputs": [
    {
     "name": "stdout",
     "output_type": "stream",
     "text": [
      "Dandelion Wine\n",
      "Dark Tower\n",
      "Old Izergil\n",
      "Three Comrades\n"
     ]
    }
   ],
   "source": [
    "file = open('books.txt', 'r')\n",
    "books = file.read()\n",
    "\n",
    "deq1 = Deque()\n",
    "deq2 = Deque()\n",
    "\n",
    "books = books.split(\"\\n\")\n",
    "for book in books:\n",
    "    deq1.addRear(book)\n",
    "    \n",
    "while not deq1.isEmpty():\n",
    "    a = deq1.removeRear()\n",
    "    while not deq2.isEmpty() and deq2.peek() > a:\n",
    "        deq1.addRear(deq2.removeFront()) \n",
    "    deq2.addFront(a)\n",
    "while not deq2.isEmpty():\n",
    "    print(deq2.removeRear())\n",
    "\n",
    "file.close()"
   ]
  },
  {
   "cell_type": "markdown",
   "id": "edfa5ae8",
   "metadata": {},
   "source": [
    "### Задание №2\n",
    "Дек содержит последовательность символов для шифровки сообщений. Дан текстовый файл, содержащий зашифрованное сообщение. Пользуясь деком, расшифровать текст. \n",
    "Известно, что при шифровке каждый символ сообщения заменялся следующим за ним в деке по часовой стрелке через один."
   ]
  },
  {
   "cell_type": "code",
   "execution_count": 3,
   "id": "81cab7a8",
   "metadata": {},
   "outputs": [
    {
     "name": "stdout",
     "output_type": "stream",
     "text": [
      "vagd\n",
      "avvagdvagd\n"
     ]
    }
   ],
   "source": [
    "file = open('decode.txt', 'r')\n",
    "shifr = file.read()\n",
    "\n",
    "deq = Deque()\n",
    "\n",
    "for symbol in range (len(shifr)-2, len(shifr) + len(shifr)-2, 1):\n",
    "    if symbol < len(shifr):\n",
    "        deq.addRear(shifr)\n",
    "    else:\n",
    "        deq.addRear(shifr[symbol-len(shifr)])\n",
    "\n",
    "res = ''\n",
    "\n",
    "while not deq.isEmpty():\n",
    "    res += deq.removeRear()\n",
    "\n",
    "print(shifr)\n",
    "print(res)\n",
    "\n",
    "file.close()"
   ]
  },
  {
   "cell_type": "markdown",
   "id": "c0894f47",
   "metadata": {},
   "source": [
    "### Задание №3\n",
    "Даны три стержня и n дисков различного размера. Диски можно надевать на стержни, образуя из них башни. Перенести n дисков со стержня А на стержень С, сохранив их первоначальный порядок. При переносе дисков необходимо соблюдать следующие правила:\n",
    "- на каждом шаге со стержня на стержень переносить только один диск;\n",
    "- диск нельзя помещать на диск меньшего размера;\n",
    "- для промежуточного хранения можно использовать стержень В.\n",
    "Реализовать алгоритм, используя три стека вместо стержней А, В, С. Информация о дисках хранится в исходном файле."
   ]
  },
  {
   "cell_type": "code",
   "execution_count": 4,
   "id": "9e91a9d4",
   "metadata": {},
   "outputs": [
    {
     "name": "stdout",
     "output_type": "stream",
     "text": [
      "1\n",
      "2\n",
      "3\n",
      "4\n",
      "5\n",
      "6\n",
      "7\n",
      "8\n"
     ]
    }
   ],
   "source": [
    "a = Stack()\n",
    "b = Stack()\n",
    "c = Stack()\n",
    "\n",
    "disks = 8\n",
    "for i in range (disks, 0, -1):\n",
    "    a.push(i)\n",
    "    \n",
    "def move(x, y):\n",
    "    if x.size() == 0 and y.size() > 0:\n",
    "        x.push(y.pop())\n",
    "    elif x.size() > 0 and y.size() == 0:\n",
    "        y.push(x.pop())\n",
    "    elif x.peek() > y.peek():\n",
    "        x.push(y.pop())\n",
    "    else:\n",
    "        y.push(x.pop())\n",
    "        \n",
    "if disks % 2 == 0:\n",
    "    while c.size() != disks:\n",
    "        move(a, b)\n",
    "        move(a, c)\n",
    "        move(b, c)\n",
    "else:\n",
    "    while c.size() != disks:\n",
    "        move(a, c)\n",
    "        if c.size() == disks:\n",
    "            break\n",
    "        move(a, b)\n",
    "        move(b, c)\n",
    "        \n",
    "while not c.isEmpty():\n",
    "    print(c.pop())"
   ]
  },
  {
   "cell_type": "markdown",
   "id": "e5b0be17",
   "metadata": {},
   "source": [
    "### Задание №4\n",
    "Дан текстовый файл с программой на алгоритмическом языке. За один просмотр файла проверить баланс круглых скобок в тексте, используя стек."
   ]
  },
  {
   "cell_type": "code",
   "execution_count": 5,
   "id": "5b1df60a",
   "metadata": {},
   "outputs": [
    {
     "name": "stdout",
     "output_type": "stream",
     "text": [
      "(fyuedg)((0(())))\n",
      "(dhscbgywi\n",
      ")\n",
      "\n",
      "Balanced\n"
     ]
    }
   ],
   "source": [
    "file = open('skobkistack.txt', 'r')\n",
    "program = file.read()\n",
    "\n",
    "stack = Stack()\n",
    "index = 0\n",
    "\n",
    "while index < len(program):\n",
    "    symbol = program[index]\n",
    "    if symbol == \"(\":\n",
    "        stack.push(symbol)\n",
    "    elif symbol == \")\":\n",
    "        if not stack.isEmpty():\n",
    "            stack.pop()\n",
    "    index = index + 1\n",
    "\n",
    "print(program + \"\\n\")\n",
    "\n",
    "if stack.isEmpty():\n",
    "    print('Balanced')\n",
    "else:\n",
    "    print('Not balanced')\n",
    "\n",
    "file.close()"
   ]
  },
  {
   "cell_type": "markdown",
   "id": "c44cdd6b",
   "metadata": {},
   "source": [
    "### Задание №5\n",
    "Дан текстовый файл с программой на алгоритмическом языке. За один просмотр файла проверить баланс квадратных скобок в тексте, используя дек."
   ]
  },
  {
   "cell_type": "code",
   "execution_count": 6,
   "id": "36b8f400",
   "metadata": {},
   "outputs": [
    {
     "name": "stdout",
     "output_type": "stream",
     "text": [
      "((((;lkjhg\n",
      "))\n",
      "()\n",
      "\n",
      "Not balanced\n"
     ]
    }
   ],
   "source": [
    "file = open('skobkideq.txt', 'r')\n",
    "program = file.read()\n",
    "\n",
    "deq = Deque()\n",
    "b = True\n",
    "index = 0\n",
    "\n",
    "while index < len(program):\n",
    "    symbol = program[index]\n",
    "    if symbol == \"(\":\n",
    "        deq.addFront(symbol)\n",
    "    elif symbol == \")\":\n",
    "        if not deq.isEmpty():\n",
    "            deq.removeRear()\n",
    "    index += 1\n",
    "\n",
    "print(program + \"\\n\")\n",
    "\n",
    "if deq.isEmpty():\n",
    "    print('Balanced')\n",
    "else:\n",
    "    print('Not balanced')\n",
    "\n",
    "file.close()   "
   ]
  },
  {
   "cell_type": "markdown",
   "id": "59d13dc7",
   "metadata": {},
   "source": [
    "### Задание №6\n",
    "Дан файл из символов. Используя стек, за один просмотр файла напечатать сначала все цифры, затем все буквы, и, наконец, все остальные символы, сохраняя исходный порядок в каждой группе символов."
   ]
  },
  {
   "cell_type": "code",
   "execution_count": 7,
   "id": "297e36c2",
   "metadata": {},
   "outputs": [
    {
     "name": "stdout",
     "output_type": "stream",
     "text": [
      "AAsdfghH1grfg5633023frw;.235@#$%^\n",
      "15633023235AAsdfghHgrfgfrw;.@#$%^\n"
     ]
    }
   ],
   "source": [
    "file = open('symbols.txt', 'r')\n",
    "stroka = file.read()\n",
    "\n",
    "letters = Stack()  \n",
    "digits = Stack()\n",
    "others = Stack()\n",
    "    \n",
    "for symbol in stroka:\n",
    "    if symbol.isdigit():\n",
    "        digits.push(symbol)\n",
    "    elif symbol.isalpha():\n",
    "        letters.push(symbol)\n",
    "    else:\n",
    "        others.push(symbol)\n",
    "\n",
    "res = ''\n",
    "\n",
    "while not others.isEmpty():\n",
    "    res += others.pop()\n",
    "while not letters.isEmpty():\n",
    "    res += letters.pop()    \n",
    "while not digits.isEmpty():\n",
    "    res += digits.pop()\n",
    "\n",
    "print(stroka)\n",
    "print(res[::-1])\n",
    "\n",
    "file.close()"
   ]
  },
  {
   "cell_type": "markdown",
   "id": "973f68bd",
   "metadata": {},
   "source": [
    "### Задание №7\n",
    "Дан файл из целых чисел. Используя дек, за один просмотр файла напечатать сначала все отрицательные числа, затем все положительные числа, сохраняя исходный порядок в каждой группе."
   ]
  },
  {
   "cell_type": "code",
   "execution_count": 8,
   "id": "c56fad66",
   "metadata": {},
   "outputs": [
    {
     "name": "stdout",
     "output_type": "stream",
     "text": [
      "-15\n",
      "-6\n",
      "-8\n",
      "-13\n",
      "-11\n",
      "12\n",
      "100\n",
      "6\n",
      "20\n",
      "18\n",
      "['12', '-15', '100', '6', '-6', '-8', '20', '-13', '18', '-11']\n"
     ]
    }
   ],
   "source": [
    "file = open('nums.txt', 'r')\n",
    "nums = file.read()\n",
    "\n",
    "nums = nums.split(' ')\n",
    "deq = Deque()\n",
    "\n",
    "for num in nums: #запись в обратном порядке; - влево, + вправо\n",
    "    if int(num) < 0:\n",
    "        deq.addRear(num)\n",
    "    else:\n",
    "        deq.addFront(num)\n",
    "\n",
    "while not deq.isEmpty(): #перемещаю - вправо, + продвигаются к левому краю; так происходит reverse порядка на начальный\n",
    "    a = deq.removeRear()\n",
    "    if int(a) < 0:\n",
    "        deq.addFront(a)\n",
    "    else:\n",
    "        deq.addRear(a)\n",
    "        break\n",
    "\n",
    "while not deq.isEmpty(): #извлекаю справа все - числа, доходим до +, когда понимаем, что это +, возвращаем обратно в deq\n",
    "    a = deq.removeFront()\n",
    "    if int(a) < 0:\n",
    "        print(a)\n",
    "    else:\n",
    "        deq.addFront(a)\n",
    "        break\n",
    "\n",
    "while not deq.isEmpty(): #печатаем оставшиеся положительные числа\n",
    "    print(deq.removeRear())\n",
    "    \n",
    "print(nums)"
   ]
  },
  {
   "cell_type": "markdown",
   "id": "b9228191",
   "metadata": {},
   "source": [
    "### Задание №8\n",
    "Дан текстовый файл. Используя стек, сформировать новый текстовый файл, содержащий строки исходного файла, записанные в обратном порядке: первая строка становится последней, вторая – предпоследней и т.д."
   ]
  },
  {
   "cell_type": "code",
   "execution_count": 9,
   "id": "981fbdfe",
   "metadata": {},
   "outputs": [
    {
     "name": "stdout",
     "output_type": "stream",
     "text": [
      "Stroka1\n",
      "Stroka2\n",
      "Stroka3\n",
      "Stroka4\n",
      "Stroka5\n",
      "Stroka6\n",
      "Stroka7\n",
      "----------\n",
      "Stroka7\n",
      "Stroka6\n",
      "Stroka5\n",
      "Stroka4\n",
      "Stroka3\n",
      "Stroka2\n",
      "Stroka1\n"
     ]
    }
   ],
   "source": [
    "finp = open('inp.txt', 'r+')\n",
    "stack = Stack()\n",
    "\n",
    "for line in finp:\n",
    "    print(line, end = \"\")\n",
    "    stack.push(line.replace('\\n',\"\"))\n",
    "    \n",
    "finp.close()\n",
    "print(\"\\n----------\")\n",
    "\n",
    "fout = open('out.txt','r+')\n",
    "\n",
    "while not stack.isEmpty():\n",
    "    a = stack.pop()\n",
    "    print(a)\n",
    "    fout.write(a + '\\n')\n",
    "\n",
    "fout.close()"
   ]
  },
  {
   "cell_type": "markdown",
   "id": "rental-jerusalem",
   "metadata": {},
   "source": [
    "### Вывод\n"
   ]
  },
  {
   "cell_type": "markdown",
   "id": "0c2b8899",
   "metadata": {},
   "source": [
    "Чудесная лаба, мне всё понравилось"
   ]
  }
 ],
 "metadata": {
  "kernelspec": {
   "display_name": "Python 3 (ipykernel)",
   "language": "python",
   "name": "python3"
  },
  "language_info": {
   "codemirror_mode": {
    "name": "ipython",
    "version": 3
   },
   "file_extension": ".py",
   "mimetype": "text/x-python",
   "name": "python",
   "nbconvert_exporter": "python",
   "pygments_lexer": "ipython3",
   "version": "3.9.7"
  }
 },
 "nbformat": 4,
 "nbformat_minor": 5
}
